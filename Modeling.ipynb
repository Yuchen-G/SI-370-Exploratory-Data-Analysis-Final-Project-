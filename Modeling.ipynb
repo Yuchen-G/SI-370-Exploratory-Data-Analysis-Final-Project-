{
 "cells": [
  {
   "cell_type": "code",
   "metadata": {
    "cell_id": "00000-ce05c220-cfb4-43f0-b527-4ff62467b485",
    "deepnote_to_be_reexecuted": false,
    "source_hash": "30a05180",
    "execution_start": 1638384426296,
    "execution_millis": 1,
    "deepnote_cell_type": "code"
   },
   "source": "import pandas as pd\nimport numpy as np\nfrom collections import Counter\nimport re\nimport statistics\nfrom statistics import mode",
   "outputs": [],
   "execution_count": 2
  },
  {
   "cell_type": "markdown",
   "source": "# Read in data files",
   "metadata": {
    "cell_id": "00001-9bf5dc22-3b98-4882-8268-d0f3632e9c89",
    "deepnote_cell_type": "markdown"
   }
  },
  {
   "cell_type": "code",
   "metadata": {
    "tags": [],
    "cell_id": "00002-b9d322e9-657c-4972-82ff-869e48cf32a3",
    "deepnote_cell_type": "code"
   },
   "source": "# Uncomment the code below when running for the first time \n\n# charts = pd.read_csv('datasets/charts.csv')\n# charts.date = pd.to_datetime(charts.date)\n# start_date = '2019-01-01'\n# end_date = '2021-07-17'\n# mask = (charts['date'] >= start_date) & (charts['date'] <= end_date)\n# charts = charts.loc[mask]\n# songs_and_artist = charts[['song', 'weeks-on-board', 'artist', 'date']].groupby(\n#     ['song', 'artist']).max().sort_values(by='date', ascending=False)\n# songs_and_artist.reset_index(level=['song', 'artist'], inplace=True)\n# songs_and_artist.describe()\n",
   "outputs": [],
   "execution_count": null
  },
  {
   "cell_type": "code",
   "metadata": {
    "cell_id": "00003-cbaa5053-2e4a-4eb9-9dc8-575bf35bca29",
    "deepnote_to_be_reexecuted": false,
    "source_hash": "df7edf59",
    "execution_start": 1638384431001,
    "execution_millis": 722,
    "deepnote_cell_type": "code"
   },
   "source": "# After storing the data from API we can load the dataset directly from the csv file \nsongs_and_artist = pd.read_csv('datasets/lyrics_and_genre.csv')\n",
   "outputs": [],
   "execution_count": 3
  },
  {
   "cell_type": "code",
   "metadata": {
    "tags": [],
    "cell_id": "00004-5128a275-976b-44e4-8908-d44e9a6341c2",
    "deepnote_to_be_reexecuted": false,
    "source_hash": "f317c075",
    "execution_start": 1638313475440,
    "execution_millis": 195,
    "deepnote_cell_type": "code"
   },
   "source": "songs_and_artist.head()",
   "outputs": [
    {
     "output_type": "execute_result",
     "execution_count": 4,
     "data": {
      "application/vnd.deepnote.dataframe.v2+json": {
       "row_count": 5,
       "column_count": 9,
       "columns": [
        {
         "name": "Unnamed: 0",
         "dtype": "int64",
         "stats": {
          "unique_count": 5,
          "nan_count": 0,
          "min": "0",
          "max": "4",
          "histogram": [
           {
            "bin_start": 0,
            "bin_end": 0.4,
            "count": 1
           },
           {
            "bin_start": 0.4,
            "bin_end": 0.8,
            "count": 0
           },
           {
            "bin_start": 0.8,
            "bin_end": 1.2000000000000002,
            "count": 1
           },
           {
            "bin_start": 1.2000000000000002,
            "bin_end": 1.6,
            "count": 0
           },
           {
            "bin_start": 1.6,
            "bin_end": 2,
            "count": 0
           },
           {
            "bin_start": 2,
            "bin_end": 2.4000000000000004,
            "count": 1
           },
           {
            "bin_start": 2.4000000000000004,
            "bin_end": 2.8000000000000003,
            "count": 0
           },
           {
            "bin_start": 2.8000000000000003,
            "bin_end": 3.2,
            "count": 1
           },
           {
            "bin_start": 3.2,
            "bin_end": 3.6,
            "count": 0
           },
           {
            "bin_start": 3.6,
            "bin_end": 4,
            "count": 1
           }
          ]
         }
        },
        {
         "name": "Unnamed: 0.1",
         "dtype": "int64",
         "stats": {
          "unique_count": 5,
          "nan_count": 0,
          "min": "0",
          "max": "4",
          "histogram": [
           {
            "bin_start": 0,
            "bin_end": 0.4,
            "count": 1
           },
           {
            "bin_start": 0.4,
            "bin_end": 0.8,
            "count": 0
           },
           {
            "bin_start": 0.8,
            "bin_end": 1.2000000000000002,
            "count": 1
           },
           {
            "bin_start": 1.2000000000000002,
            "bin_end": 1.6,
            "count": 0
           },
           {
            "bin_start": 1.6,
            "bin_end": 2,
            "count": 0
           },
           {
            "bin_start": 2,
            "bin_end": 2.4000000000000004,
            "count": 1
           },
           {
            "bin_start": 2.4000000000000004,
            "bin_end": 2.8000000000000003,
            "count": 0
           },
           {
            "bin_start": 2.8000000000000003,
            "bin_end": 3.2,
            "count": 1
           },
           {
            "bin_start": 3.2,
            "bin_end": 3.6,
            "count": 0
           },
           {
            "bin_start": 3.6,
            "bin_end": 4,
            "count": 1
           }
          ]
         }
        },
        {
         "name": "Unnamed: 0.1.1",
         "dtype": "int64",
         "stats": {
          "unique_count": 5,
          "nan_count": 0,
          "min": "0",
          "max": "4",
          "histogram": [
           {
            "bin_start": 0,
            "bin_end": 0.4,
            "count": 1
           },
           {
            "bin_start": 0.4,
            "bin_end": 0.8,
            "count": 0
           },
           {
            "bin_start": 0.8,
            "bin_end": 1.2000000000000002,
            "count": 1
           },
           {
            "bin_start": 1.2000000000000002,
            "bin_end": 1.6,
            "count": 0
           },
           {
            "bin_start": 1.6,
            "bin_end": 2,
            "count": 0
           },
           {
            "bin_start": 2,
            "bin_end": 2.4000000000000004,
            "count": 1
           },
           {
            "bin_start": 2.4000000000000004,
            "bin_end": 2.8000000000000003,
            "count": 0
           },
           {
            "bin_start": 2.8000000000000003,
            "bin_end": 3.2,
            "count": 1
           },
           {
            "bin_start": 3.2,
            "bin_end": 3.6,
            "count": 0
           },
           {
            "bin_start": 3.6,
            "bin_end": 4,
            "count": 1
           }
          ]
         }
        },
        {
         "name": "song",
         "dtype": "object",
         "stats": {
          "unique_count": 5,
          "nan_count": 0,
          "categories": [
           {
            "name": "Rapstar",
            "count": 1
           },
           {
            "name": "Straightenin",
            "count": 1
           },
           {
            "name": "3 others",
            "count": 3
           }
          ]
         }
        },
        {
         "name": "artist",
         "dtype": "object",
         "stats": {
          "unique_count": 5,
          "nan_count": 0,
          "categories": [
           {
            "name": "Polo G",
            "count": 1
           },
           {
            "name": "Migos",
            "count": 1
           },
           {
            "name": "3 others",
            "count": 3
           }
          ]
         }
        },
        {
         "name": "weeks-on-board",
         "dtype": "int64",
         "stats": {
          "unique_count": 5,
          "nan_count": 0,
          "min": "3",
          "max": "13",
          "histogram": [
           {
            "bin_start": 3,
            "bin_end": 4,
            "count": 1
           },
           {
            "bin_start": 4,
            "bin_end": 5,
            "count": 0
           },
           {
            "bin_start": 5,
            "bin_end": 6,
            "count": 1
           },
           {
            "bin_start": 6,
            "bin_end": 7,
            "count": 0
           },
           {
            "bin_start": 7,
            "bin_end": 8,
            "count": 1
           },
           {
            "bin_start": 8,
            "bin_end": 9,
            "count": 1
           },
           {
            "bin_start": 9,
            "bin_end": 10,
            "count": 0
           },
           {
            "bin_start": 10,
            "bin_end": 11,
            "count": 0
           },
           {
            "bin_start": 11,
            "bin_end": 12,
            "count": 0
           },
           {
            "bin_start": 12,
            "bin_end": 13,
            "count": 1
           }
          ]
         }
        },
        {
         "name": "date",
         "dtype": "object",
         "stats": {
          "unique_count": 1,
          "nan_count": 0,
          "categories": [
           {
            "name": "2021-07-17",
            "count": 5
           }
          ]
         }
        },
        {
         "name": "json_genre",
         "dtype": "object",
         "stats": {
          "unique_count": 4,
          "nan_count": 0,
          "categories": [
           {
            "name": "{'pagination': {'page': 1, 'pages': 1, 'per_page': 50, 'items': 0, 'urls': {}}, 'results': []}",
            "count": 2
           },
           {
            "name": "{'pagination': {'page': 1, 'pages': 1, 'per_page': 50, 'items': 1, 'urls': {}}, 'results': [{'country': 'Unknown', 'year': '2021', 'format': ['File', 'AAC', 'Single'], 'label': ['Columbia'], 'type': 'release', 'genre': ['Hip Hop'], 'style': ['Trap'], 'id': 18220837, 'barcode': [], 'master_id': 0, 'master_url': None, 'uri': '/Polo-G-Rapstar/release/18220837', 'catno': 'none', 'title': 'Polo G - Rapstar', 'thumb': 'https://img.discogs.com/jG_O2ahTG8wDRQDFwrPZBTrYn8E=/fit-in/150x150/filters:strip_icc():format(jpeg):mode_rgb():quality(40)/discogs-images/R-18220837-1617976980-7622.png.jpg', 'cover_image': 'https://img.discogs.com/pbZyz-ykO7n4p_O9LDnj_oY7M8I=/fit-in/600x600/filters:strip_icc():format(jpeg):mode_rgb():quality(90)/discogs-images/R-18220837-1617976980-7622.png.jpg', 'resource_url': 'https://api.discogs.com/releases/18220837', 'community': {'want': 0, 'have': 4}, 'format_quantity': 0, 'formats': [{'name': 'File', 'qty': '1', 'text': '256 kbps', 'descriptions': ['AAC', 'Single']}]}]}",
            "count": 1
           },
           {
            "name": "2 others",
            "count": 2
           }
          ]
         }
        },
        {
         "name": "lyrics",
         "dtype": "object",
         "stats": {
          "unique_count": 5,
          "nan_count": 0,
          "categories": [
           {
            "name": "[Intro]\n(Shout out my nigga Synco)\n\n[Chorus]\nUh (Tuned up), copped a BMW, new deposit, I picked up another bag\nLike fuck it, I'ma count while I'm in it\nI hear planes flyin', crowds screamin', money counters, chains clangin'\nShit, I guess that's how it sound when you winnin'\nI ain't jokin', do it sound like I'm kiddin'?\nI been makin' like two thousand a minute\nSo high up through the clouds, I was swimmin'\nI'm probably gon' drown when I'm in it\nI bet she gon' get loud when I'm in it\nAnd we might have a child when I'm finished\n\n[Verse 1]\nUh, I won't love a ho, after we fuck, she can't get near me\nOnly bitch I give a conversation to is Siri\nMy pants Amiri, yes, I'm winnin', clearly\nI'm the chosen one, seen my potential, so they fear me\nLately I've been prayin', God, I wonder, can You hear me?\nThinkin' 'bout the old me, I swear I miss you dearly\nStay down 'til you come up, I've been stickin' to that theory\nEvery day a battle, I'm exhausted and I'm weary\nMake sure I smile in public, when alone, my eyes teary\nI fought through it all, but that shit hurt me severely\nI've been gettin' high to hide behind my insecurities\nTakin' different pills, but I know it ain't gon'—\n[Chorus]\nUh, copped a BMW, new deposit, I picked up another bag\nLike fuck it, I'ma count while I'm in it\nI hear planes flyin', crowds screamin', money counters, chains clangin'\nShit, I guess that's how it sound when you winnin'\nI ain't jokin', do it sound like I'm kiddin'?\nI been makin' like two thousand a minute\nSo high up through the clouds, I was swimmin'\nI'm probably gon' drown when I'm in it\nI bet she gon' get loud when I'm in it (Uh, uh)\nAnd we might have a child when I'm finished\n\n[Verse 2]\nThey say I'm Pac rebirth, never put out a weak verse\nHomicides when we lurk, I'ma step 'til my feet hurt\nBeen puttin' them streets first\nWhite tees turned burgundy t-shirts\nLookin' for somethin' real, he stuck in a deep search\nAnxiety killin' me, I just want to leave Earth\nWhen they ask if I'm okay, it just make everything seem worse\nTry and explain your feelings, sound like something you rehearsed\nStabbed me in my back with a clean smirk\nLookin' so deep into your eyes, I can read your thoughts, so\nShut the fuck—, I mean, please don't talk\nI done been through too much and I don't need another loss\nPut that on every war scar for every battle I fought\n[Chorus]\nUh, copped a BMW, new deposit, I picked up another bag\nLike fuck it, I'ma count while I'm in it\nI hear planes flyin', crowds screamin', money counters, chains clangin'\nShit, I guess that's how it sound when you winnin'\nI ain't jokin', do it sound like I'm kiddin'?\nI been makin' like two thousand a minute\nSo high up through the clouds, I was swimmin'\nI'm probably gon' drown when I'm in it\nI bet she gon' get loud when I'm in it\nAnd we might have a child when I'm finished\n\n[Outro]\nWhen I'm finished, when I'm finished183EmbedShare URLCopyEmbedCopy",
            "count": 1
           },
           {
            "name": "[Intro: Quavo]\n(DJ Durel)\n(Ayy Castro, go crazy)\nYeah, (Soo) we gone (Huh), stop, we good (Stop)\nChill, we on, (Chyeah) scale, let's go (Let's go)\nDomingo (Huh), let's go (Migo)\nTake' (Huh), let’s go (Huh)\n'Set (Huh), let’s roll\n\n[Chorus: Quavo]\nStraightenin', straightenin' (Woo)\nStraightenin', yeah (Straight)\nStraightenin', straightenin' (Soo)\nStraightenin', yeah (Straight)\nDon't nothin' get straightenin' but straightenin' (Hey)\nDon't nothin' get straightenin' but straightenin' (Soo)\nDon't nothin' get straightenin' but straightenin' (Straight)\nYou don't get shit straight, you gon' straighten it (Nah)\n\n[Verse 1: Quavo]\nIn this game, sit back, be patient (Gang)\nNiggas act like the gang went vacant (Huh?)\nNiggas act like somеthing been taken (Took what?)\nAin't nothing but a little bit of straightenin' (I'm tеllin' ya)\nBeen kicking shit, poppin' out daily (Go)\nOn an island, it's a movie I'm making (That’s facts)\nI'm counting dineros with Robert De Niro\nHe telling 'em that Cho amazing (Ayy)\nPut that shit on (Shit on), niggas get shit on (Shit on)\nI bought two whips, and I put my bitch on (Skrrt)\nShe put this wrist on (Wrist)\nShe factory set it with Richard Mille prongs (Ice)\nTurn a pandemic into a bandemic\nYou know that’s the shit that we on (Yessir)\nThem niggas gon' pull up and act like this shit is together\nWe don't fuck with you homes (Fuck 'em)\nUh uh, I don't do the fake kicking (No)\nThere go a rocket, is Take' in it? (Soo)\nIt's a problem with few then we straightenin' it (Straight)\nSwap out the cat, put a demon in it (Skrrt)\nUpgrade the bando, put fiends in it (Woo)\nI got some shooters you ain't seen with me (Grrah)\nWe'll run that shit back, I just seen Tenet (Woah)\nWe're going to get straightenin'\n[Chorus: Quavo & Takeoff]\nStraightenin', straightenin' (Woo)\nStraightenin', yeah (Straight)\nStraightenin', straightenin' (Soo)\nStraightenin', yeah (Straight)\nDon't nothin' get straightenin' but straightenin' (Hey)\nDon't nothin' get straightenin' but straightenin' (Soo)\nDon't nothin' get straightenin' but straightenin' (Straight)\nYou don't get shit straight, you don't straighten it (Nah)\n(Takeoff)\n\n[Verse 2: Takeoff]\nYou don't get shit straight if you don't straighten it (No)\nI'm the type to sit back and watch patient (Watch)\nDo a trick with the stick, it's amazing (Stick)\nIn the bando trappin' out vacants (Bando)\nLocs on like I'm starring in The Matrix (Matrix)\nI keep the cookie like my grandma made it (Cookie)\nI keep the keys and the pounds and the babies (Keys)\nAnd the bricks came white like Shady (White)\nDrive the Lambo' through the avenue (Skrrt)\nPretty lil bih' with a attitude (Bad)\nGive a shoutout to the white boy (Boys)\nAll white Rolls look radical (Radical)\nKeep you a fire, don't let them take it (No)\nIf they get yours you gotta get straightenin' (Straightenin')\nI catch a opp, I give him a facelift (Opp)\nMy niggas lurkin' and spinnin' the day-shift (Lurk)\nI got them racks when you see me (Rackaids)\nSpin back to back, it's a repeat (Spin)\nChampionship, it's a three-peat (Three)\nShoot out the window like Drizzy and Freaky (Freak)\nI keep it on me, believe me (Yessir)\nI be up high where the trees be (High)\nI go and put on so much of this ice\nThey say \"Don't touch me, you gon' freeze me\" (Freeze)\n[Chorus: Quavo & Offset]\nStraightenin', straightenin' (Woo)\nStraightenin', yeah (Straight)\nStraightenin', straightenin' (Soo)\nStraightenin', yeah (Straight)\nDon't nothin' get straightenin' but straightenin' (Hey)\nDon't nothin' get straightenin' but straightenin' (Soo)\nDon't nothin' get straightenin' but straightenin' (Straight)\nYou don't get shit straight, you don't straighten it (Woo, woo, nah)\n(Offset)\n\n[Verse 3: Offset]\nGet my straightenin' (Straightenin', get mine)\nAutomatic handgun like the Navy (Automatic, raow)\nI keep a hundred round drum, I ain't fading (Paow-paow-paow)\nTurn a nigga to a mummy with the payment (Woo, woo)\nTerminate him with the money (Hey!), it was gravy (Terminator)\nSpin an opp block, rock-a-bye-baby (Rock-a-bye)\nMade his heart stop, made his momma hate me (Make 'em hate me)\nWe were trappin' out the spot out the basement (Out the spot)\nTasmanian Devil, we spin on your block (Spin, ouch)\nI pop a Perc' and I'm going berserk (Woah, woah)\nAnd I woke up and bought me a drop (Like fuck it, eugh)\nStraight to the point, I get straight to the straightenin' (Straight, straight)\nYour buddy, he can't even walk (Straight, straight, straight)\nWe gutted him, nobody talk (We gutted him)\nNew Cullinan, stars start to fall (New Cullinan)\nTrappin' and hustlin', beat down the walls (Beat down)\nI'm with the steppa (Grr), Nawfside repper (Nawf)\nQua' keep a MAC in the back of the Tesla (MAC, Qua')\nI'm with the gang (Gang), we could never be selfish (Gang-gang-gang)\nWatch how I dress, I'm the drippin' professor\nBought a Kel-Tec, then I bought a compressor (Kel-Tec)\nTime to press him, eat him for breakfast (Hey)\nTaught him a lesson, I'm never confessing (Hey)\nLeft him a message, somebody stretch 'em (Stretch)\n[Chorus: Quavo]\nStraightenin', straightenin' (Woo)\nStraightenin', yeah (Straight)\nStraightenin', straightenin' (Soo)\nStraightenin', yeah (Straight)\nDon't nothin' get straightenin' but straightenin' (Hey)\nDon't nothin' get straightenin' but straightenin' (Soo)\nDon't nothin' get straightenin' but straightenin' (Straight)\nYou don't get shit straight, you don't straighten it (Nah)\n\n[Outro: Quavo]\nStraightenin'\nNo, nothin' get some straightenin' (Soo)\nYeah, don't nothin' get straightenin' but straightenin' (Don't nothin' get straightenin' but straightenin')\nYou feel me? (Don't nothin' get straight)\nI don't know what y'all think goin' on out there but know what I mean? (Straightenin')\nWe straight, we straight (Don't nothin' get straight, yeah)\nSoo, soo, soo, soo, soo, soo (Don't nothin' get straight)\nWe gone14EmbedShare URLCopyEmbedCopy",
            "count": 1
           },
           {
            "name": "3 others",
            "count": 3
           }
          ]
         }
        },
        {
         "name": "_deepnote_index_column",
         "dtype": "int64"
        }
       ],
       "rows_top": [
        {
         "Unnamed: 0": 0,
         "Unnamed: 0.1": 0,
         "Unnamed: 0.1.1": 0,
         "song": "Rapstar",
         "artist": "Polo G",
         "weeks-on-board": 13,
         "date": "2021-07-17",
         "json_genre": "{'pagination': {'page': 1, 'pages': 1, 'per_page': 50, 'items': 1, 'urls': {}}, 'results': [{'count…",
         "lyrics": "[Intro]\n(Shout out my nigga Synco)\n\n[Chorus]\nUh (Tuned up), copped a BMW, new deposit, I picked up …",
         "_deepnote_index_column": 0
        },
        {
         "Unnamed: 0": 1,
         "Unnamed: 0.1": 1,
         "Unnamed: 0.1.1": 1,
         "song": "Straightenin",
         "artist": "Migos",
         "weeks-on-board": 8,
         "date": "2021-07-17",
         "json_genre": "{'pagination': {'page': 1, 'pages': 1, 'per_page': 50, 'items': 1, 'urls': {}}, 'results': [{'count…",
         "lyrics": "[Intro: Quavo]\n(DJ Durel)\n(Ayy Castro, go crazy)\nYeah, (Soo) we gone (Huh), stop, we good (Stop)\nCh…",
         "_deepnote_index_column": 1
        },
        {
         "Unnamed: 0": 2,
         "Unnamed: 0.1": 2,
         "Unnamed: 0.1.1": 2,
         "song": "Ball If I Want To",
         "artist": "DaBaby",
         "weeks-on-board": 3,
         "date": "2021-07-17",
         "json_genre": "{'pagination': {'page': 1, 'pages': 1, 'per_page': 50, 'items': 1, 'urls': {}}, 'results': [{'count…",
         "lyrics": "[Intro]\n(If I want to)\n(If I want to)\n(If I want to)\n​d.a. got that dope\n(If I want-want-want-want—…",
         "_deepnote_index_column": 2
        },
        {
         "Unnamed: 0": 3,
         "Unnamed: 0.1": 3,
         "Unnamed: 0.1.1": 3,
         "song": "Happier",
         "artist": "Olivia Rodrigo",
         "weeks-on-board": 7,
         "date": "2021-07-17",
         "json_genre": "{'pagination': {'page': 1, 'pages': 1, 'per_page': 50, 'items': 0, 'urls': {}}, 'results': []}",
         "lyrics": "[Verse 1]\nWe broke up a month ago\nYour friends are mine, you know I know\nYou've moved on, found som…",
         "_deepnote_index_column": 3
        },
        {
         "Unnamed: 0": 4,
         "Unnamed: 0.1": 4,
         "Unnamed: 0.1.1": 4,
         "song": "Hats Off",
         "artist": "Lil Baby, Lil Durk & Travis Scott",
         "weeks-on-board": 5,
         "date": "2021-07-17",
         "json_genre": "{'pagination': {'page': 1, 'pages': 1, 'per_page': 50, 'items': 0, 'urls': {}}, 'results': []}",
         "lyrics": "[Intro]\nWhat's happenin', Chi Chi?\n\n[Verse 1: Lil Baby]\nTurn my name to \"The kiDD,\" that's a baby g…",
         "_deepnote_index_column": 4
        }
       ],
       "rows_bottom": null
      },
      "text/plain": "   Unnamed: 0  Unnamed: 0.1  Unnamed: 0.1.1               song  \\\n0           0             0               0            Rapstar   \n1           1             1               1       Straightenin   \n2           2             2               2  Ball If I Want To   \n3           3             3               3            Happier   \n4           4             4               4           Hats Off   \n\n                              artist  weeks-on-board        date  \\\n0                             Polo G              13  2021-07-17   \n1                              Migos               8  2021-07-17   \n2                             DaBaby               3  2021-07-17   \n3                     Olivia Rodrigo               7  2021-07-17   \n4  Lil Baby, Lil Durk & Travis Scott               5  2021-07-17   \n\n                                          json_genre  \\\n0  {'pagination': {'page': 1, 'pages': 1, 'per_pa...   \n1  {'pagination': {'page': 1, 'pages': 1, 'per_pa...   \n2  {'pagination': {'page': 1, 'pages': 1, 'per_pa...   \n3  {'pagination': {'page': 1, 'pages': 1, 'per_pa...   \n4  {'pagination': {'page': 1, 'pages': 1, 'per_pa...   \n\n                                              lyrics  \n0  [Intro]\\n(Shout out my nigga Synco)\\n\\n[Chorus...  \n1  [Intro: Quavo]\\n(DJ Durel)\\n(Ayy Castro, go cr...  \n2  [Intro]\\n(If I want to)\\n(If I want to)\\n(If I...  \n3  [Verse 1]\\nWe broke up a month ago\\nYour frien...  \n4  [Intro]\\nWhat's happenin', Chi Chi?\\n\\n[Verse ...  ",
      "text/html": "<div>\n<style scoped>\n    .dataframe tbody tr th:only-of-type {\n        vertical-align: middle;\n    }\n\n    .dataframe tbody tr th {\n        vertical-align: top;\n    }\n\n    .dataframe thead th {\n        text-align: right;\n    }\n</style>\n<table border=\"1\" class=\"dataframe\">\n  <thead>\n    <tr style=\"text-align: right;\">\n      <th></th>\n      <th>Unnamed: 0</th>\n      <th>Unnamed: 0.1</th>\n      <th>Unnamed: 0.1.1</th>\n      <th>song</th>\n      <th>artist</th>\n      <th>weeks-on-board</th>\n      <th>date</th>\n      <th>json_genre</th>\n      <th>lyrics</th>\n    </tr>\n  </thead>\n  <tbody>\n    <tr>\n      <th>0</th>\n      <td>0</td>\n      <td>0</td>\n      <td>0</td>\n      <td>Rapstar</td>\n      <td>Polo G</td>\n      <td>13</td>\n      <td>2021-07-17</td>\n      <td>{'pagination': {'page': 1, 'pages': 1, 'per_pa...</td>\n      <td>[Intro]\\n(Shout out my nigga Synco)\\n\\n[Chorus...</td>\n    </tr>\n    <tr>\n      <th>1</th>\n      <td>1</td>\n      <td>1</td>\n      <td>1</td>\n      <td>Straightenin</td>\n      <td>Migos</td>\n      <td>8</td>\n      <td>2021-07-17</td>\n      <td>{'pagination': {'page': 1, 'pages': 1, 'per_pa...</td>\n      <td>[Intro: Quavo]\\n(DJ Durel)\\n(Ayy Castro, go cr...</td>\n    </tr>\n    <tr>\n      <th>2</th>\n      <td>2</td>\n      <td>2</td>\n      <td>2</td>\n      <td>Ball If I Want To</td>\n      <td>DaBaby</td>\n      <td>3</td>\n      <td>2021-07-17</td>\n      <td>{'pagination': {'page': 1, 'pages': 1, 'per_pa...</td>\n      <td>[Intro]\\n(If I want to)\\n(If I want to)\\n(If I...</td>\n    </tr>\n    <tr>\n      <th>3</th>\n      <td>3</td>\n      <td>3</td>\n      <td>3</td>\n      <td>Happier</td>\n      <td>Olivia Rodrigo</td>\n      <td>7</td>\n      <td>2021-07-17</td>\n      <td>{'pagination': {'page': 1, 'pages': 1, 'per_pa...</td>\n      <td>[Verse 1]\\nWe broke up a month ago\\nYour frien...</td>\n    </tr>\n    <tr>\n      <th>4</th>\n      <td>4</td>\n      <td>4</td>\n      <td>4</td>\n      <td>Hats Off</td>\n      <td>Lil Baby, Lil Durk &amp; Travis Scott</td>\n      <td>5</td>\n      <td>2021-07-17</td>\n      <td>{'pagination': {'page': 1, 'pages': 1, 'per_pa...</td>\n      <td>[Intro]\\nWhat's happenin', Chi Chi?\\n\\n[Verse ...</td>\n    </tr>\n  </tbody>\n</table>\n</div>"
     },
     "metadata": {}
    }
   ],
   "execution_count": null
  },
  {
   "cell_type": "markdown",
   "source": "# Fetch the corresponding genre for each song from discogs API\n## Search for genre and lyrics by artist and name of the song ",
   "metadata": {
    "cell_id": "00004-2f1f78e5-57bd-457a-98e0-7a32f4bc35d0",
    "deepnote_cell_type": "markdown"
   }
  },
  {
   "cell_type": "code",
   "metadata": {
    "cell_id": "00005-0c18dd52-8a4f-4d42-bc75-1dc150f5a5bf",
    "deepnote_output_heights": [
     77.53125
    ],
    "deepnote_to_be_reexecuted": false,
    "source_hash": "ee221a14",
    "execution_start": 1638313502369,
    "execution_millis": 4,
    "deepnote_cell_type": "code"
   },
   "source": "# Uncomment the code below when running for the first time \n\n# # !pip install lyricsgenius\n# # !pip install ratelimit\n# import requests\n# from lyricsgenius import Genius\n# from ratelimit import limits, sleep_and_retry\n\n# # calls per minute\n# CALLS = 60\n# RATE_LIMIT = 70\n\n\n# # Params for genre API\n# URL = 'https://api.discogs.com/database/search?'\n# api_key = 'inTtqFRUynYdTaZnVvYz'\n# api_secret = 'CshyGbZvbkPxHiJuxfuqNEYdAQhqGwGR'\n\n# # Params for lyrics API\n# genius = Genius(\n#     \"7Ise90s_tMVx4jQroYGWIOaskQOTBFiCh3G9J8CtgLKBK65cXk3HNFEVMYNMoGBd\")\n\n\n# # Fetch genre information\n# @sleep_and_retry\n# @limits(calls=CALLS, period=RATE_LIMIT)\n# def search(song, artist):\n#     params = {\n#         'release_title': song.replace('+', ' '),\n#         'artist': artist,\n#         'key': api_key,\n#         'secret': api_secret\n#     }\n#     response = requests.get(URL, params=params)\n#     # print(response.url)\n#     return response.json()\n\n# songs_and_artist['json_genre'] = songs_and_artist.apply(\n#     lambda x: search(x.song, x.artist), axis=1)\n\n\n# # Fetch lyrics\n# lyrics = []\n# for i in range(len(songs_and_artist)):\n#     try:\n#         song = genius.search_song(\n#             songs_and_artist.iloc[i, 0], songs_and_artist.iloc[i, 1])\n#         lyrics.append(song.lyrics)\n#     except:\n#         lyrics.append('empty')\n#         pass\n# songs_and_artist['lyrics'] = lyrics\n\n# # Export dataframe to csv file\n# songs_and_artist.to_csv('datasets/lyrics_and_genre.csv')\n\n# songs_and_artist.head()\n",
   "outputs": [],
   "execution_count": null
  },
  {
   "cell_type": "code",
   "metadata": {
    "cell_id": "00007-567948dd-80ef-4c49-8275-ff63914cdbaa",
    "deepnote_to_be_reexecuted": false,
    "source_hash": "431d6a6a",
    "execution_start": 1638313507105,
    "execution_millis": 2,
    "deepnote_output_heights": [
     40.375
    ],
    "deepnote_cell_type": "code"
   },
   "source": "# Uncomment the code below when running for the first time \n# The fuction below detects how many responses we get from the server\n\n# import json\n\n\n# def filternone(row):\n#     try:\n#         row = json.loads(row)\n#         print(row)\n#         if row['results'] == []:\n#             return 'no result'\n#         else:\n#             return 'server responsed'\n#     except:\n#         return 'no response from server'\n# songs_and_artist['result'] = songs_and_artist['json_genre'].apply(filternone)\n\n# songs_and_artist.result.value_counts()",
   "outputs": [],
   "execution_count": null
  },
  {
   "cell_type": "markdown",
   "source": "# Features Engineering",
   "metadata": {
    "tags": [],
    "is_collapsed": false,
    "cell_id": "00011-a7080f50-3bf9-4afd-833a-7864b48b7734",
    "deepnote_cell_type": "text-cell-h1"
   }
  },
  {
   "cell_type": "code",
   "metadata": {
    "tags": [],
    "cell_id": "00010-cdc806ec-4fd9-45f2-9950-4438c8382fc5",
    "deepnote_to_be_reexecuted": false,
    "source_hash": "cfc08b4b",
    "execution_start": 1638384439109,
    "execution_millis": 418,
    "deepnote_cell_type": "code"
   },
   "source": "def genres_func(Genre):\n    genres_text = re.findall(r\"'genre': \\['(.+?)'\\]\", str(Genre))\n    return genres_text\n\ndef counter(row):\n    if len(row) > 0:\n        return max(set(row), key=row.count)\n    else:\n        return None\n        # return dict.C[0]\n\ndef country_func(Country):\n    counrty_text = re.findall(r\"'country': '(.+?)'\", str(Country))\n    return counrty_text\n\ndef format_func(form):\n    format_text = re.findall(r\"'format': (.+?]),\", str(form))\n    return format_text\n\ndef comm_func(Comm):\n    community_text = re.findall(r\"'community': (.+?}),\", str(Comm))\n    return community_text\n\n\n\n\n# Append a genres column that contain the name of the genres based on query result\nsongs_and_artist['genres'] = songs_and_artist.apply(\n    lambda row: genres_func(row['json_genre']), axis=1)\n\n# Store the most frequent genre in the genre column\nsongs_and_artist['genre'] = songs_and_artist.apply(\n    lambda row: counter(row['genres']), axis=1)\n\nsongs_and_artist['country'] = songs_and_artist.apply(\n    lambda row: country_func(row['json_genre']), axis=1)\n\nsongs_and_artist['format'] = songs_and_artist.apply(\n    lambda row: format_func(row['json_genre']), axis=1)\n\nsongs_and_artist['community'] = songs_and_artist.apply(\n    lambda row: comm_func(row['json_genre']), axis=1)\n\n\n# drop songs of which lyrics can't be found\nsongs_and_artist = songs_and_artist[songs_and_artist[\"lyrics\"] != \"empty\"]\n\n# drop songs of which genre can't be found\nsongs_and_artist = songs_and_artist[songs_and_artist[\"genres\"].apply(lambda x: x != [])]",
   "outputs": [],
   "execution_count": 4
  },
  {
   "cell_type": "markdown",
   "source": "## Clean Country Data",
   "metadata": {
    "tags": [],
    "is_collapsed": false,
    "cell_id": "00010-516f70df-78f9-4a2f-aa21-cd035ad4ed88",
    "deepnote_cell_type": "text-cell-h2"
   }
  },
  {
   "cell_type": "code",
   "metadata": {
    "tags": [],
    "cell_id": "00011-72c4f177-1a46-4637-8c0c-1f551c71a2f3",
    "deepnote_to_be_reexecuted": false,
    "source_hash": "60387036",
    "execution_start": 1638384440805,
    "execution_millis": 37,
    "deepnote_cell_type": "code"
   },
   "source": "def get_freq_country(countries):\n    # print(format)\n    if len(countries) >0:\n        temp = re.sub(r'[\\[\\]\\(\\)\\\\\\\"\\' ]', '', str(countries))\n        words = temp.split(',')\n        if len(words) > 0:\n            x = max(set(words), key=words.count)\n            return x\n            \n        else: \n            return None\n    else:\n        return None\n\nsongs_and_artist['frequent_country'] = songs_and_artist.apply(\n    lambda row: get_freq_country(row['country']), axis=1)",
   "outputs": [],
   "execution_count": 5
  },
  {
   "cell_type": "markdown",
   "source": "## Clean Community Data",
   "metadata": {
    "tags": [],
    "is_collapsed": false,
    "cell_id": "00013-1d6d5df3-bf93-4960-abc0-a9fdf56b866c",
    "deepnote_cell_type": "text-cell-h2"
   }
  },
  {
   "cell_type": "code",
   "metadata": {
    "tags": [],
    "cell_id": "00013-55610d11-9c56-4cf2-9a97-11793b38ced1",
    "deepnote_to_be_reexecuted": false,
    "source_hash": "6633767a",
    "execution_start": 1638384442217,
    "execution_millis": 79,
    "deepnote_cell_type": "code"
   },
   "source": "def comm_want_num(Comm):\n    community_want_text = re.findall(r\"'want': (\\d+),\", str(Comm))\n    # print(community_want_text)\n    want_temp = re.sub(r'[\\[\\]\\(\\)\\\"\\' ]', '', str(community_want_text))\n    # print(want_temp)\n    want_parts = want_temp.split(',')\n    if len(want_parts) >0:\n        # print(want_parts)\n        int_want_parts = map(int, want_parts)\n        return (sum(int_want_parts)/len(want_parts)) \n    else:\n        return None\n\ndef comm_have_num(Comm):\n    community_have_text = re.findall(r\"'have': (\\d+)\", str(Comm))\n    # print(community_have_text)\n    have_temp = re.sub(r'[\\[\\]\\(\\)\\\"\\' ]', '', str(community_have_text))\n    # print(have_temp)\n    have_parts = have_temp.split(',')\n    if len(have_parts) >0:\n        # print(have_parts)\n        int_have_parts = map(int, have_parts)\n        return (sum(int_have_parts)/len(have_parts)) \n    else:\n        return None\n\n\n# apply on columns\nsongs_and_artist['comm_want_num'] = songs_and_artist.apply(\n    lambda row: comm_want_num(row['community']), axis=1)\n\nsongs_and_artist['comm_have_num'] = songs_and_artist.apply(\n    lambda row: comm_have_num(row['community']), axis=1)",
   "outputs": [],
   "execution_count": 6
  },
  {
   "cell_type": "code",
   "metadata": {
    "tags": [],
    "cell_id": "00014-f20582c9-8edd-499c-a391-c3019275ff78",
    "deepnote_to_be_reexecuted": false,
    "source_hash": "143b66cb",
    "execution_start": 1638384444015,
    "execution_millis": 352,
    "deepnote_cell_type": "code"
   },
   "source": "songs_and_artist.head(30)",
   "outputs": [
    {
     "output_type": "execute_result",
     "execution_count": 7,
     "data": {
      "application/vnd.deepnote.dataframe.v2+json": {
       "row_count": 30,
       "column_count": 17,
       "columns": [
        {
         "name": "Unnamed: 0",
         "dtype": "int64",
         "stats": {
          "unique_count": 30,
          "nan_count": 0,
          "min": "0",
          "max": "115",
          "histogram": [
           {
            "bin_start": 0,
            "bin_end": 11.5,
            "count": 7
           },
           {
            "bin_start": 11.5,
            "bin_end": 23,
            "count": 8
           },
           {
            "bin_start": 23,
            "bin_end": 34.5,
            "count": 2
           },
           {
            "bin_start": 34.5,
            "bin_end": 46,
            "count": 5
           },
           {
            "bin_start": 46,
            "bin_end": 57.5,
            "count": 3
           },
           {
            "bin_start": 57.5,
            "bin_end": 69,
            "count": 4
           },
           {
            "bin_start": 69,
            "bin_end": 80.5,
            "count": 0
           },
           {
            "bin_start": 80.5,
            "bin_end": 92,
            "count": 0
           },
           {
            "bin_start": 92,
            "bin_end": 103.5,
            "count": 0
           },
           {
            "bin_start": 103.5,
            "bin_end": 115,
            "count": 1
           }
          ]
         }
        },
        {
         "name": "Unnamed: 0.1",
         "dtype": "int64",
         "stats": {
          "unique_count": 30,
          "nan_count": 0,
          "min": "0",
          "max": "115",
          "histogram": [
           {
            "bin_start": 0,
            "bin_end": 11.5,
            "count": 7
           },
           {
            "bin_start": 11.5,
            "bin_end": 23,
            "count": 8
           },
           {
            "bin_start": 23,
            "bin_end": 34.5,
            "count": 2
           },
           {
            "bin_start": 34.5,
            "bin_end": 46,
            "count": 5
           },
           {
            "bin_start": 46,
            "bin_end": 57.5,
            "count": 3
           },
           {
            "bin_start": 57.5,
            "bin_end": 69,
            "count": 4
           },
           {
            "bin_start": 69,
            "bin_end": 80.5,
            "count": 0
           },
           {
            "bin_start": 80.5,
            "bin_end": 92,
            "count": 0
           },
           {
            "bin_start": 92,
            "bin_end": 103.5,
            "count": 0
           },
           {
            "bin_start": 103.5,
            "bin_end": 115,
            "count": 1
           }
          ]
         }
        },
        {
         "name": "Unnamed: 0.1.1",
         "dtype": "int64",
         "stats": {
          "unique_count": 30,
          "nan_count": 0,
          "min": "0",
          "max": "115",
          "histogram": [
           {
            "bin_start": 0,
            "bin_end": 11.5,
            "count": 7
           },
           {
            "bin_start": 11.5,
            "bin_end": 23,
            "count": 8
           },
           {
            "bin_start": 23,
            "bin_end": 34.5,
            "count": 2
           },
           {
            "bin_start": 34.5,
            "bin_end": 46,
            "count": 5
           },
           {
            "bin_start": 46,
            "bin_end": 57.5,
            "count": 3
           },
           {
            "bin_start": 57.5,
            "bin_end": 69,
            "count": 4
           },
           {
            "bin_start": 69,
            "bin_end": 80.5,
            "count": 0
           },
           {
            "bin_start": 80.5,
            "bin_end": 92,
            "count": 0
           },
           {
            "bin_start": 92,
            "bin_end": 103.5,
            "count": 0
           },
           {
            "bin_start": 103.5,
            "bin_end": 115,
            "count": 1
           }
          ]
         }
        },
        {
         "name": "song",
         "dtype": "object",
         "stats": {
          "unique_count": 30,
          "nan_count": 0,
          "categories": [
           {
            "name": "Rapstar",
            "count": 1
           },
           {
            "name": "Straightenin",
            "count": 1
           },
           {
            "name": "28 others",
            "count": 28
           }
          ]
         }
        },
        {
         "name": "artist",
         "dtype": "object",
         "stats": {
          "unique_count": 27,
          "nan_count": 0,
          "categories": [
           {
            "name": "Olivia Rodrigo",
            "count": 3
           },
           {
            "name": "DaBaby",
            "count": 2
           },
           {
            "name": "25 others",
            "count": 25
           }
          ]
         }
        },
        {
         "name": "weeks-on-board",
         "dtype": "int64",
         "stats": {
          "unique_count": 20,
          "nan_count": 0,
          "min": "2",
          "max": "83",
          "histogram": [
           {
            "bin_start": 2,
            "bin_end": 10.1,
            "count": 15
           },
           {
            "bin_start": 10.1,
            "bin_end": 18.2,
            "count": 6
           },
           {
            "bin_start": 18.2,
            "bin_end": 26.299999999999997,
            "count": 7
           },
           {
            "bin_start": 26.299999999999997,
            "bin_end": 34.4,
            "count": 1
           },
           {
            "bin_start": 34.4,
            "bin_end": 42.5,
            "count": 0
           },
           {
            "bin_start": 42.5,
            "bin_end": 50.599999999999994,
            "count": 0
           },
           {
            "bin_start": 50.599999999999994,
            "bin_end": 58.699999999999996,
            "count": 0
           },
           {
            "bin_start": 58.699999999999996,
            "bin_end": 66.8,
            "count": 0
           },
           {
            "bin_start": 66.8,
            "bin_end": 74.89999999999999,
            "count": 0
           },
           {
            "bin_start": 74.89999999999999,
            "bin_end": 83,
            "count": 1
           }
          ]
         }
        },
        {
         "name": "date",
         "dtype": "object",
         "stats": {
          "unique_count": 2,
          "nan_count": 0,
          "categories": [
           {
            "name": "2021-07-17",
            "count": 29
           },
           {
            "name": "2021-07-03",
            "count": 1
           }
          ]
         }
        },
        {
         "name": "json_genre",
         "dtype": "object",
         "stats": {
          "unique_count": 30,
          "nan_count": 0,
          "categories": [
           {
            "name": "{'pagination': {'page': 1, 'pages': 1, 'per_page': 50, 'items': 1, 'urls': {}}, 'results': [{'country': 'Unknown', 'year': '2021', 'format': ['File', 'AAC', 'Single'], 'label': ['Columbia'], 'type': 'release', 'genre': ['Hip Hop'], 'style': ['Trap'], 'id': 18220837, 'barcode': [], 'master_id': 0, 'master_url': None, 'uri': '/Polo-G-Rapstar/release/18220837', 'catno': 'none', 'title': 'Polo G - Rapstar', 'thumb': 'https://img.discogs.com/jG_O2ahTG8wDRQDFwrPZBTrYn8E=/fit-in/150x150/filters:strip_icc():format(jpeg):mode_rgb():quality(40)/discogs-images/R-18220837-1617976980-7622.png.jpg', 'cover_image': 'https://img.discogs.com/pbZyz-ykO7n4p_O9LDnj_oY7M8I=/fit-in/600x600/filters:strip_icc():format(jpeg):mode_rgb():quality(90)/discogs-images/R-18220837-1617976980-7622.png.jpg', 'resource_url': 'https://api.discogs.com/releases/18220837', 'community': {'want': 0, 'have': 4}, 'format_quantity': 0, 'formats': [{'name': 'File', 'qty': '1', 'text': '256 kbps', 'descriptions': ['AAC', 'Single']}]}]}",
            "count": 1
           },
           {
            "name": "{'pagination': {'page': 1, 'pages': 1, 'per_page': 50, 'items': 1, 'urls': {}}, 'results': [{'country': 'Unknown', 'year': '2021', 'format': ['File', 'AAC', 'Single'], 'label': ['Quality Control Music', 'Quality Control Music, LLC', 'Quality Control Music, LLC'], 'type': 'release', 'genre': ['Hip Hop'], 'style': ['Trap'], 'id': 18728650, 'barcode': [], 'master_id': 0, 'master_url': None, 'uri': '/Migos-Straightenin/release/18728650', 'catno': 'none', 'title': 'Migos - Straightenin', 'thumb': 'https://img.discogs.com/PxX4Vj0Hy58terqlFC4qG4NHqFA=/fit-in/150x150/filters:strip_icc():format(jpeg):mode_rgb():quality(40)/discogs-images/R-18728650-1621020963-4279.png.jpg', 'cover_image': 'https://img.discogs.com/jIBxCuEx6w1q1k5jHhRgvo3zHtw=/fit-in/600x600/filters:strip_icc():format(jpeg):mode_rgb():quality(90)/discogs-images/R-18728650-1621020963-4279.png.jpg', 'resource_url': 'https://api.discogs.com/releases/18728650', 'community': {'want': 1, 'have': 4}, 'format_quantity': 0, 'formats': [{'name': 'File', 'qty': '1', 'text': '256 kbps', 'descriptions': ['AAC', 'Single']}]}]}",
            "count": 1
           },
           {
            "name": "28 others",
            "count": 28
           }
          ]
         }
        },
        {
         "name": "lyrics",
         "dtype": "object",
         "stats": {
          "unique_count": 30,
          "nan_count": 0,
          "categories": [
           {
            "name": "[Intro]\n(Shout out my nigga Synco)\n\n[Chorus]\nUh (Tuned up), copped a BMW, new deposit, I picked up another bag\nLike fuck it, I'ma count while I'm in it\nI hear planes flyin', crowds screamin', money counters, chains clangin'\nShit, I guess that's how it sound when you winnin'\nI ain't jokin', do it sound like I'm kiddin'?\nI been makin' like two thousand a minute\nSo high up through the clouds, I was swimmin'\nI'm probably gon' drown when I'm in it\nI bet she gon' get loud when I'm in it\nAnd we might have a child when I'm finished\n\n[Verse 1]\nUh, I won't love a ho, after we fuck, she can't get near me\nOnly bitch I give a conversation to is Siri\nMy pants Amiri, yes, I'm winnin', clearly\nI'm the chosen one, seen my potential, so they fear me\nLately I've been prayin', God, I wonder, can You hear me?\nThinkin' 'bout the old me, I swear I miss you dearly\nStay down 'til you come up, I've been stickin' to that theory\nEvery day a battle, I'm exhausted and I'm weary\nMake sure I smile in public, when alone, my eyes teary\nI fought through it all, but that shit hurt me severely\nI've been gettin' high to hide behind my insecurities\nTakin' different pills, but I know it ain't gon'—\n[Chorus]\nUh, copped a BMW, new deposit, I picked up another bag\nLike fuck it, I'ma count while I'm in it\nI hear planes flyin', crowds screamin', money counters, chains clangin'\nShit, I guess that's how it sound when you winnin'\nI ain't jokin', do it sound like I'm kiddin'?\nI been makin' like two thousand a minute\nSo high up through the clouds, I was swimmin'\nI'm probably gon' drown when I'm in it\nI bet she gon' get loud when I'm in it (Uh, uh)\nAnd we might have a child when I'm finished\n\n[Verse 2]\nThey say I'm Pac rebirth, never put out a weak verse\nHomicides when we lurk, I'ma step 'til my feet hurt\nBeen puttin' them streets first\nWhite tees turned burgundy t-shirts\nLookin' for somethin' real, he stuck in a deep search\nAnxiety killin' me, I just want to leave Earth\nWhen they ask if I'm okay, it just make everything seem worse\nTry and explain your feelings, sound like something you rehearsed\nStabbed me in my back with a clean smirk\nLookin' so deep into your eyes, I can read your thoughts, so\nShut the fuck—, I mean, please don't talk\nI done been through too much and I don't need another loss\nPut that on every war scar for every battle I fought\n[Chorus]\nUh, copped a BMW, new deposit, I picked up another bag\nLike fuck it, I'ma count while I'm in it\nI hear planes flyin', crowds screamin', money counters, chains clangin'\nShit, I guess that's how it sound when you winnin'\nI ain't jokin', do it sound like I'm kiddin'?\nI been makin' like two thousand a minute\nSo high up through the clouds, I was swimmin'\nI'm probably gon' drown when I'm in it\nI bet she gon' get loud when I'm in it\nAnd we might have a child when I'm finished\n\n[Outro]\nWhen I'm finished, when I'm finished183EmbedShare URLCopyEmbedCopy",
            "count": 1
           },
           {
            "name": "[Intro: Quavo]\n(DJ Durel)\n(Ayy Castro, go crazy)\nYeah, (Soo) we gone (Huh), stop, we good (Stop)\nChill, we on, (Chyeah) scale, let's go (Let's go)\nDomingo (Huh), let's go (Migo)\nTake' (Huh), let’s go (Huh)\n'Set (Huh), let’s roll\n\n[Chorus: Quavo]\nStraightenin', straightenin' (Woo)\nStraightenin', yeah (Straight)\nStraightenin', straightenin' (Soo)\nStraightenin', yeah (Straight)\nDon't nothin' get straightenin' but straightenin' (Hey)\nDon't nothin' get straightenin' but straightenin' (Soo)\nDon't nothin' get straightenin' but straightenin' (Straight)\nYou don't get shit straight, you gon' straighten it (Nah)\n\n[Verse 1: Quavo]\nIn this game, sit back, be patient (Gang)\nNiggas act like the gang went vacant (Huh?)\nNiggas act like somеthing been taken (Took what?)\nAin't nothing but a little bit of straightenin' (I'm tеllin' ya)\nBeen kicking shit, poppin' out daily (Go)\nOn an island, it's a movie I'm making (That’s facts)\nI'm counting dineros with Robert De Niro\nHe telling 'em that Cho amazing (Ayy)\nPut that shit on (Shit on), niggas get shit on (Shit on)\nI bought two whips, and I put my bitch on (Skrrt)\nShe put this wrist on (Wrist)\nShe factory set it with Richard Mille prongs (Ice)\nTurn a pandemic into a bandemic\nYou know that’s the shit that we on (Yessir)\nThem niggas gon' pull up and act like this shit is together\nWe don't fuck with you homes (Fuck 'em)\nUh uh, I don't do the fake kicking (No)\nThere go a rocket, is Take' in it? (Soo)\nIt's a problem with few then we straightenin' it (Straight)\nSwap out the cat, put a demon in it (Skrrt)\nUpgrade the bando, put fiends in it (Woo)\nI got some shooters you ain't seen with me (Grrah)\nWe'll run that shit back, I just seen Tenet (Woah)\nWe're going to get straightenin'\n[Chorus: Quavo & Takeoff]\nStraightenin', straightenin' (Woo)\nStraightenin', yeah (Straight)\nStraightenin', straightenin' (Soo)\nStraightenin', yeah (Straight)\nDon't nothin' get straightenin' but straightenin' (Hey)\nDon't nothin' get straightenin' but straightenin' (Soo)\nDon't nothin' get straightenin' but straightenin' (Straight)\nYou don't get shit straight, you don't straighten it (Nah)\n(Takeoff)\n\n[Verse 2: Takeoff]\nYou don't get shit straight if you don't straighten it (No)\nI'm the type to sit back and watch patient (Watch)\nDo a trick with the stick, it's amazing (Stick)\nIn the bando trappin' out vacants (Bando)\nLocs on like I'm starring in The Matrix (Matrix)\nI keep the cookie like my grandma made it (Cookie)\nI keep the keys and the pounds and the babies (Keys)\nAnd the bricks came white like Shady (White)\nDrive the Lambo' through the avenue (Skrrt)\nPretty lil bih' with a attitude (Bad)\nGive a shoutout to the white boy (Boys)\nAll white Rolls look radical (Radical)\nKeep you a fire, don't let them take it (No)\nIf they get yours you gotta get straightenin' (Straightenin')\nI catch a opp, I give him a facelift (Opp)\nMy niggas lurkin' and spinnin' the day-shift (Lurk)\nI got them racks when you see me (Rackaids)\nSpin back to back, it's a repeat (Spin)\nChampionship, it's a three-peat (Three)\nShoot out the window like Drizzy and Freaky (Freak)\nI keep it on me, believe me (Yessir)\nI be up high where the trees be (High)\nI go and put on so much of this ice\nThey say \"Don't touch me, you gon' freeze me\" (Freeze)\n[Chorus: Quavo & Offset]\nStraightenin', straightenin' (Woo)\nStraightenin', yeah (Straight)\nStraightenin', straightenin' (Soo)\nStraightenin', yeah (Straight)\nDon't nothin' get straightenin' but straightenin' (Hey)\nDon't nothin' get straightenin' but straightenin' (Soo)\nDon't nothin' get straightenin' but straightenin' (Straight)\nYou don't get shit straight, you don't straighten it (Woo, woo, nah)\n(Offset)\n\n[Verse 3: Offset]\nGet my straightenin' (Straightenin', get mine)\nAutomatic handgun like the Navy (Automatic, raow)\nI keep a hundred round drum, I ain't fading (Paow-paow-paow)\nTurn a nigga to a mummy with the payment (Woo, woo)\nTerminate him with the money (Hey!), it was gravy (Terminator)\nSpin an opp block, rock-a-bye-baby (Rock-a-bye)\nMade his heart stop, made his momma hate me (Make 'em hate me)\nWe were trappin' out the spot out the basement (Out the spot)\nTasmanian Devil, we spin on your block (Spin, ouch)\nI pop a Perc' and I'm going berserk (Woah, woah)\nAnd I woke up and bought me a drop (Like fuck it, eugh)\nStraight to the point, I get straight to the straightenin' (Straight, straight)\nYour buddy, he can't even walk (Straight, straight, straight)\nWe gutted him, nobody talk (We gutted him)\nNew Cullinan, stars start to fall (New Cullinan)\nTrappin' and hustlin', beat down the walls (Beat down)\nI'm with the steppa (Grr), Nawfside repper (Nawf)\nQua' keep a MAC in the back of the Tesla (MAC, Qua')\nI'm with the gang (Gang), we could never be selfish (Gang-gang-gang)\nWatch how I dress, I'm the drippin' professor\nBought a Kel-Tec, then I bought a compressor (Kel-Tec)\nTime to press him, eat him for breakfast (Hey)\nTaught him a lesson, I'm never confessing (Hey)\nLeft him a message, somebody stretch 'em (Stretch)\n[Chorus: Quavo]\nStraightenin', straightenin' (Woo)\nStraightenin', yeah (Straight)\nStraightenin', straightenin' (Soo)\nStraightenin', yeah (Straight)\nDon't nothin' get straightenin' but straightenin' (Hey)\nDon't nothin' get straightenin' but straightenin' (Soo)\nDon't nothin' get straightenin' but straightenin' (Straight)\nYou don't get shit straight, you don't straighten it (Nah)\n\n[Outro: Quavo]\nStraightenin'\nNo, nothin' get some straightenin' (Soo)\nYeah, don't nothin' get straightenin' but straightenin' (Don't nothin' get straightenin' but straightenin')\nYou feel me? (Don't nothin' get straight)\nI don't know what y'all think goin' on out there but know what I mean? (Straightenin')\nWe straight, we straight (Don't nothin' get straight, yeah)\nSoo, soo, soo, soo, soo, soo (Don't nothin' get straight)\nWe gone14EmbedShare URLCopyEmbedCopy",
            "count": 1
           },
           {
            "name": "28 others",
            "count": 28
           }
          ]
         }
        },
        {
         "name": "genres",
         "dtype": "object",
         "stats": {
          "unique_count": 30,
          "nan_count": 0,
          "categories": [
           {
            "name": "['Hip Hop']",
            "count": 9
           },
           {
            "name": "['Rock']",
            "count": 2
           },
           {
            "name": "18 others",
            "count": 19
           }
          ]
         }
        },
        {
         "name": "genre",
         "dtype": "object",
         "stats": {
          "unique_count": 12,
          "nan_count": 0,
          "categories": [
           {
            "name": "Hip Hop",
            "count": 11
           },
           {
            "name": "Pop",
            "count": 5
           },
           {
            "name": "10 others",
            "count": 14
           }
          ]
         }
        },
        {
         "name": "country",
         "dtype": "object",
         "stats": {
          "unique_count": 30,
          "nan_count": 0,
          "categories": [
           {
            "name": "['Unknown']",
            "count": 13
           },
           {
            "name": "['US']",
            "count": 4
           },
           {
            "name": "12 others",
            "count": 13
           }
          ]
         }
        },
        {
         "name": "format",
         "dtype": "object",
         "stats": {
          "unique_count": 30,
          "nan_count": 0,
          "categories": [
           {
            "name": "[\"['File', 'AAC', 'Single']\"]",
            "count": 14
           },
           {
            "name": "[\"['File', 'AAC', 'Single']\", \"['File', 'AAC', 'Single']\", \"['File', 'AAC', 'Single']\"]",
            "count": 2
           },
           {
            "name": "14 others",
            "count": 14
           }
          ]
         }
        },
        {
         "name": "community",
         "dtype": "object",
         "stats": {
          "unique_count": 30,
          "nan_count": 0,
          "categories": [
           {
            "name": "[\"{'want': 0, 'have': 2}\"]",
            "count": 2
           },
           {
            "name": "[\"{'want': 3, 'have': 1}\"]",
            "count": 2
           },
           {
            "name": "25 others",
            "count": 26
           }
          ]
         }
        },
        {
         "name": "frequent_country",
         "dtype": "object",
         "stats": {
          "unique_count": 4,
          "nan_count": 0,
          "categories": [
           {
            "name": "Unknown",
            "count": 17
           },
           {
            "name": "US",
            "count": 11
           },
           {
            "name": "2 others",
            "count": 2
           }
          ]
         }
        },
        {
         "name": "comm_want_num",
         "dtype": "float64",
         "stats": {
          "unique_count": 17,
          "nan_count": 0,
          "min": "0.0",
          "max": "125.1",
          "histogram": [
           {
            "bin_start": 0,
            "bin_end": 12.51,
            "count": 23
           },
           {
            "bin_start": 12.51,
            "bin_end": 25.02,
            "count": 4
           },
           {
            "bin_start": 25.02,
            "bin_end": 37.53,
            "count": 0
           },
           {
            "bin_start": 37.53,
            "bin_end": 50.04,
            "count": 1
           },
           {
            "bin_start": 50.04,
            "bin_end": 62.55,
            "count": 0
           },
           {
            "bin_start": 62.55,
            "bin_end": 75.06,
            "count": 0
           },
           {
            "bin_start": 75.06,
            "bin_end": 87.57,
            "count": 1
           },
           {
            "bin_start": 87.57,
            "bin_end": 100.08,
            "count": 0
           },
           {
            "bin_start": 100.08,
            "bin_end": 112.59,
            "count": 0
           },
           {
            "bin_start": 112.59,
            "bin_end": 125.1,
            "count": 1
           }
          ]
         }
        },
        {
         "name": "comm_have_num",
         "dtype": "float64",
         "stats": {
          "unique_count": 19,
          "nan_count": 0,
          "min": "0.0",
          "max": "145.42857142857142",
          "histogram": [
           {
            "bin_start": 0,
            "bin_end": 14.542857142857141,
            "count": 23
           },
           {
            "bin_start": 14.542857142857141,
            "bin_end": 29.085714285714282,
            "count": 2
           },
           {
            "bin_start": 29.085714285714282,
            "bin_end": 43.62857142857142,
            "count": 1
           },
           {
            "bin_start": 43.62857142857142,
            "bin_end": 58.171428571428564,
            "count": 1
           },
           {
            "bin_start": 58.171428571428564,
            "bin_end": 72.71428571428571,
            "count": 0
           },
           {
            "bin_start": 72.71428571428571,
            "bin_end": 87.25714285714284,
            "count": 0
           },
           {
            "bin_start": 87.25714285714284,
            "bin_end": 101.79999999999998,
            "count": 0
           },
           {
            "bin_start": 101.79999999999998,
            "bin_end": 116.34285714285713,
            "count": 1
           },
           {
            "bin_start": 116.34285714285713,
            "bin_end": 130.88571428571427,
            "count": 1
           },
           {
            "bin_start": 130.88571428571427,
            "bin_end": 145.42857142857142,
            "count": 1
           }
          ]
         }
        },
        {
         "name": "_deepnote_index_column",
         "dtype": "int64"
        }
       ],
       "rows_top": [
        {
         "Unnamed: 0": 0,
         "Unnamed: 0.1": 0,
         "Unnamed: 0.1.1": 0,
         "song": "Rapstar",
         "artist": "Polo G",
         "weeks-on-board": 13,
         "date": "2021-07-17",
         "json_genre": "{'pagination': {'page': 1, 'pages': 1, 'per_page': 50, 'items': 1, 'urls': {}}, 'results': [{'count…",
         "lyrics": "[Intro]\n(Shout out my nigga Synco)\n\n[Chorus]\nUh (Tuned up), copped a BMW, new deposit, I picked up …",
         "genres": "['Hip Hop']",
         "genre": "Hip Hop",
         "country": "['Unknown']",
         "format": "[\"['File', 'AAC', 'Single']\"]",
         "community": "[\"{'want': 0, 'have': 4}\"]",
         "frequent_country": "Unknown",
         "comm_want_num": 0,
         "comm_have_num": 4,
         "_deepnote_index_column": 0
        },
        {
         "Unnamed: 0": 1,
         "Unnamed: 0.1": 1,
         "Unnamed: 0.1.1": 1,
         "song": "Straightenin",
         "artist": "Migos",
         "weeks-on-board": 8,
         "date": "2021-07-17",
         "json_genre": "{'pagination': {'page': 1, 'pages': 1, 'per_page': 50, 'items': 1, 'urls': {}}, 'results': [{'count…",
         "lyrics": "[Intro: Quavo]\n(DJ Durel)\n(Ayy Castro, go crazy)\nYeah, (Soo) we gone (Huh), stop, we good (Stop)\nCh…",
         "genres": "['Hip Hop']",
         "genre": "Hip Hop",
         "country": "['Unknown']",
         "format": "[\"['File', 'AAC', 'Single']\"]",
         "community": "[\"{'want': 1, 'have': 4}\"]",
         "frequent_country": "Unknown",
         "comm_want_num": 1,
         "comm_have_num": 4,
         "_deepnote_index_column": 1
        },
        {
         "Unnamed: 0": 2,
         "Unnamed: 0.1": 2,
         "Unnamed: 0.1.1": 2,
         "song": "Ball If I Want To",
         "artist": "DaBaby",
         "weeks-on-board": 3,
         "date": "2021-07-17",
         "json_genre": "{'pagination': {'page': 1, 'pages': 1, 'per_page': 50, 'items': 1, 'urls': {}}, 'results': [{'count…",
         "lyrics": "[Intro]\n(If I want to)\n(If I want to)\n(If I want to)\n​d.a. got that dope\n(If I want-want-want-want—…",
         "genres": "['Hip Hop']",
         "genre": "Hip Hop",
         "country": "['Unknown']",
         "format": "[\"['File', 'AAC', 'Single']\"]",
         "community": "[\"{'want': 0, 'have': 2}\"]",
         "frequent_country": "Unknown",
         "comm_want_num": 0,
         "comm_have_num": 2,
         "_deepnote_index_column": 2
        },
        {
         "Unnamed: 0": 5,
         "Unnamed: 0.1": 5,
         "Unnamed: 0.1.1": 5,
         "song": "Tell Em",
         "artist": "Cochise & $NOT",
         "weeks-on-board": 4,
         "date": "2021-07-17",
         "json_genre": "{'pagination': {'page': 1, 'pages': 1, 'per_page': 50, 'items': 1, 'urls': {}}, 'results': [{'count…",
         "lyrics": "[Intro: Cochise]\nUh, yeah\nYeah, yo, yo\nYo, weh dem a seh?\nYo Cochise, a weh dem a seh?\nYeah, uh, ye…",
         "genres": "['Hip Hop']",
         "genre": "Hip Hop",
         "country": "['Unknown']",
         "format": "[\"['File', 'AAC', 'Single']\"]",
         "community": "[\"{'want': 3, 'have': 1}\"]",
         "frequent_country": "Unknown",
         "comm_want_num": 3,
         "comm_have_num": 1,
         "_deepnote_index_column": 5
        },
        {
         "Unnamed: 0": 6,
         "Unnamed: 0.1": 6,
         "Unnamed: 0.1.1": 6,
         "song": "Telepatia",
         "artist": "Kali Uchis",
         "weeks-on-board": 20,
         "date": "2021-07-17",
         "json_genre": "{'pagination': {'page': 1, 'pages': 1, 'per_page': 50, 'items': 1, 'urls': {}}, 'results': [{'count…",
         "lyrics": "Lyrics for this song are currently unavailableEmbedShare URLCopyEmbedCopy",
         "genres": "[\"Latin', 'Funk / Soul\"]",
         "genre": "Latin', 'Funk / Soul",
         "country": "['Unknown']",
         "format": "[\"['File', 'AAC', 'Single']\"]",
         "community": "[\"{'want': 1, 'have': 0}\"]",
         "frequent_country": "Unknown",
         "comm_want_num": 1,
         "comm_have_num": 0,
         "_deepnote_index_column": 6
        },
        {
         "Unnamed: 0": 9,
         "Unnamed: 0.1": 9,
         "Unnamed: 0.1.1": 9,
         "song": "Drunk (And I Don't Wanna Go Home)",
         "artist": "Elle King & Miranda Lambert",
         "weeks-on-board": 11,
         "date": "2021-07-17",
         "json_genre": "{'pagination': {'page': 1, 'pages': 1, 'per_page': 50, 'items': 3, 'urls': {}}, 'results': [{'count…",
         "lyrics": "[Verse 1]\nI got some money in my pocket, got some trouble on my tail\nI can hear the dives a-knockin…",
         "genres": "[\"Pop', 'Folk, World, & Country\", \"Pop', 'Folk, World, & Country\", \"Pop', 'Folk, World, & Country\"]",
         "genre": "Pop', 'Folk, World, & Country",
         "country": "['US', 'US', 'US']",
         "format": "[\"['File', 'AAC', 'Single']\", \"['File', 'AAC', 'Single']\", \"['File', 'AAC', 'Single']\"]",
         "community": "[\"{'want': 0, 'have': 2}}\", \"{'want': 0, 'have': 1}\", \"{'want': 0, 'have': 1}\"]",
         "frequent_country": "US",
         "comm_want_num": 0,
         "comm_have_num": 1.3333333333333333,
         "_deepnote_index_column": 9
        },
        {
         "Unnamed: 0": 11,
         "Unnamed: 0.1": 11,
         "Unnamed: 0.1.1": 11,
         "song": "Beggin'",
         "artist": "Maneskin",
         "weeks-on-board": 2,
         "date": "2021-07-17",
         "json_genre": "{'pagination': {'page': 1, 'pages': 1, 'per_page': 50, 'items': 1, 'urls': {}}, 'results': [{'count…",
         "lyrics": "[Intro]\nPut your loving hand out, baby\n'Cause I'm beggin'\n\n[Chorus]\nI'm beggin', beggin' you\nSo put…",
         "genres": "['Rock']",
         "genre": "Rock",
         "country": "['Unknown']",
         "format": "[\"['File', 'AAC', 'Single']\"]",
         "community": "[\"{'want': 0, 'have': 1}\"]",
         "frequent_country": "Unknown",
         "comm_want_num": 0,
         "comm_have_num": 1,
         "_deepnote_index_column": 11
        },
        {
         "Unnamed: 0": 13,
         "Unnamed: 0.1": 13,
         "Unnamed: 0.1.1": 13,
         "song": "Drivers License",
         "artist": "Olivia Rodrigo",
         "weeks-on-board": 26,
         "date": "2021-07-17",
         "json_genre": "{'pagination': {'page': 1, 'pages': 1, 'per_page': 50, 'items': 3, 'urls': {}}, 'results': [{'count…",
         "lyrics": "[Verse 1]\nI got my driver's license last week\nJust like we always talked about\n'Cause you were so e…",
         "genres": "['Pop', 'Pop', 'Pop']",
         "genre": "Pop",
         "country": "['Germany, Austria, & Switzerland', 'Europe', 'Germany, Austria, & Switzerland']",
         "format": "[\"['CD', 'Single', 'Limited Edition']\", \"['File', 'FLAC', 'Single']\", \"['CD', 'Single', 'Limited Ed…",
         "community": "[\"{'want': 125, 'have': 192}}\", \"{'want': 11, 'have': 10}\", \"{'want': 114, 'have': 182}\"]",
         "frequent_country": "&Switzerland",
         "comm_want_num": 83.33333333333333,
         "comm_have_num": 128,
         "_deepnote_index_column": 13
        },
        {
         "Unnamed: 0": 14,
         "Unnamed: 0.1": 14,
         "Unnamed: 0.1.1": 14,
         "song": "Heartbreak Anniversary",
         "artist": "Giveon",
         "weeks-on-board": 21,
         "date": "2021-07-17",
         "json_genre": "{'pagination': {'page': 1, 'pages': 1, 'per_page': 50, 'items': 1, 'urls': {}}, 'results': [{'count…",
         "lyrics": "[Intro]\nOoh\n\n[Verse 1]\nBalloons are deflated\nGuess they look lifeless like me\nWe miss you on your s…",
         "genres": "['Funk / Soul']",
         "genre": "Funk / Soul",
         "country": "['Unknown']",
         "format": "[\"['File', 'AAC', 'Single']\"]",
         "community": "[\"{'want': 4, 'have': 3}\"]",
         "frequent_country": "Unknown",
         "comm_want_num": 4,
         "comm_have_num": 3,
         "_deepnote_index_column": 14
        },
        {
         "Unnamed: 0": 15,
         "Unnamed: 0.1": 15,
         "Unnamed: 0.1.1": 15,
         "song": "Heat Waves",
         "artist": "Glass Animals",
         "weeks-on-board": 25,
         "date": "2021-07-17",
         "json_genre": "{'pagination': {'page': 1, 'pages': 1, 'per_page': 50, 'items': 1, 'urls': {}}, 'results': [{'count…",
         "lyrics": "[Intro]\n(Last night, all I think about is you\nDon't stop, baby, you can walk through\nDon't want, ba…",
         "genres": "[\"Electronic', 'Pop\"]",
         "genre": "Electronic', 'Pop",
         "country": "['UK & Europe']",
         "format": "[\"['File', 'ALAC', 'Single']\"]",
         "community": "[\"{'want': 6, 'have': 6}\"]",
         "frequent_country": "UK&Europe",
         "comm_want_num": 6,
         "comm_have_num": 6,
         "_deepnote_index_column": 15
        },
        {
         "Unnamed: 0": 17,
         "Unnamed: 0.1": 17,
         "Unnamed: 0.1.1": 17,
         "song": "Blinding Lights",
         "artist": "The Weeknd",
         "weeks-on-board": 83,
         "date": "2021-07-17",
         "json_genre": "{'pagination': {'page': 1, 'pages': 2, 'per_page': 50, 'items': 57, 'urls': {'last': 'https://api.d…",
         "lyrics": "[Intro]\nYeah\n\n[Verse 1]\nI've been tryna call\nI've been on my own for long enough\nMaybe you can show…",
         "genres": "[\"Electronic', 'Rock', 'Pop\", 'Electronic', \"Electronic', 'Pop\", \"Electronic', 'Rock\", \"Electronic'…",
         "genre": "Electronic', 'Rock",
         "country": "['US', 'US', 'UK', 'Unknown', 'US', 'Unknown', 'Europe', 'US', 'Unknown', 'US', 'UK', 'Unknown', 'F…",
         "format": "['[\\'Vinyl\\', \\'12\"\\', \\'45 RPM\\', \\'Maxi-Single\\', \\'Special Edition\\']', \"['CD', 'Single', 'Speci…",
         "community": "[\"{'want': 502, 'have': 369}\", \"{'want': 9, 'have': 11}\", \"{'want': 451, 'have': 536}\", \"{'want': 2…",
         "frequent_country": "US",
         "comm_want_num": 125.1,
         "comm_have_num": 115.9,
         "_deepnote_index_column": 17
        },
        {
         "Unnamed: 0": 19,
         "Unnamed: 0.1": 19,
         "Unnamed: 0.1.1": 19,
         "song": "Thot Shit",
         "artist": "Megan Thee Stallion",
         "weeks-on-board": 4,
         "date": "2021-07-17",
         "json_genre": "{'pagination': {'page': 1, 'pages': 1, 'per_page': 50, 'items': 1, 'urls': {}}, 'results': [{'count…",
         "lyrics": "[Intro]\n(OG Parker)\n(And if the beat live, you know Lil Ju made it)\n\n[Verse 1]\nHands on my knees, s…",
         "genres": "['Hip Hop']",
         "genre": "Hip Hop",
         "country": "['Unknown']",
         "format": "[\"['File', 'AAC', 'Single']\"]",
         "community": "[\"{'want': 1, 'have': 1}\"]",
         "frequent_country": "Unknown",
         "comm_want_num": 1,
         "comm_have_num": 1,
         "_deepnote_index_column": 19
        },
        {
         "Unnamed: 0": 20,
         "Unnamed: 0.1": 20,
         "Unnamed: 0.1.1": 20,
         "song": "Bad Habits",
         "artist": "Ed Sheeran",
         "weeks-on-board": 2,
         "date": "2021-07-17",
         "json_genre": "{'pagination': {'page': 1, 'pages': 1, 'per_page': 50, 'items': 13, 'urls': {}}, 'results': [{'coun…",
         "lyrics": "[Intro]\n(One, two, three, four)\nOoh, ooh\n\n[Verse 1]\nEvery time you come around, you know I can't sa…",
         "genres": "[\"Electronic', 'Pop\", \"Electronic', 'Pop\", 'Rock', \"Electronic', 'Pop\", 'Pop', 'Rock', \"Electronic'…",
         "genre": "Electronic', 'Pop",
         "country": "['Unknown', 'UK, Europe & US', 'Unknown', 'Unknown', 'UK, Europe & US', 'Unknown', 'US', 'UK, Europ…",
         "format": "[\"['File', 'AAC', 'Single', 'Stereo']\", \"['CD', 'Single', 'Limited Edition', 'Stereo']\", \"['File', …",
         "community": "[\"{'want': 0, 'have': 5}\", \"{'want': 38, 'have': 324}}\", \"{'want': 1, 'have': 5}\", \"{'want': 0, 'ha…",
         "frequent_country": "Unknown",
         "comm_want_num": 5.846153846153846,
         "comm_have_num": 49.92307692307692,
         "_deepnote_index_column": 20
        },
        {
         "Unnamed: 0": 21,
         "Unnamed: 0.1": 21,
         "Unnamed: 0.1.1": 21,
         "song": "Todo de Ti",
         "artist": "Rauw Alejandro",
         "weeks-on-board": 6,
         "date": "2021-07-17",
         "json_genre": "{'pagination': {'page': 1, 'pages': 1, 'per_page': 50, 'items': 1, 'urls': {}}, 'results': [{'count…",
         "lyrics": "[Letra de \"Todo De Ti\"]\n\n[Intro]\nOne, two\nOne, two, three, four\nDice, Ra-Rauw\n\n[Verso 1]\nEl viento …",
         "genres": "[\"Electronic', 'Latin', 'Funk / Soul', 'Pop\"]",
         "genre": "Electronic', 'Latin', 'Funk / Soul', 'Pop",
         "country": "['US']",
         "format": "[\"['File', 'WAV', 'Single']\"]",
         "community": "[\"{'want': 2, 'have': 1}\"]",
         "frequent_country": "US",
         "comm_want_num": 2,
         "comm_have_num": 1,
         "_deepnote_index_column": 21
        },
        {
         "Unnamed: 0": 22,
         "Unnamed: 0.1": 22,
         "Unnamed: 0.1.1": 22,
         "song": "Arcade",
         "artist": "Duncan Laurence",
         "weeks-on-board": 13,
         "date": "2021-07-17",
         "json_genre": "{'pagination': {'page': 1, 'pages': 1, 'per_page': 50, 'items': 18, 'urls': {}}, 'results': [{'coun…",
         "lyrics": "[Verse 1]\nA broken heart is all that's left\nI'm still fixing all the cracks\nLost a couple of pieces…",
         "genres": "['Pop', 'Pop', 'Pop', 'Pop', \"Electronic', 'Pop\", 'Pop', 'Pop', 'Pop', \"Electronic', 'Pop\", \"Electr…",
         "genre": "Pop",
         "country": "['Netherlands', 'Europe', 'Unknown', 'Europe', 'Unknown', 'Europe', 'Benelux', 'Europe', 'Unknown',…",
         "format": "['[\\'Vinyl\\', \\'10\"\\', \\'33 ⅓ RPM\\', \\'EP\\', \\'Stereo\\']', \"['File', 'FLAC', 'Single']\", \"['File', …",
         "community": "[\"{'want': 10, 'have': 15}\", \"{'want': 6, 'have': 7}\", \"{'want': 6, 'have': 4}\", \"{'want': 81, 'hav…",
         "frequent_country": "Unknown",
         "comm_want_num": 24.77777777777778,
         "comm_have_num": 42.111111111111114,
         "_deepnote_index_column": 22
        },
        {
         "Unnamed: 0": 24,
         "Unnamed: 0.1": 24,
         "Unnamed: 0.1.1": 24,
         "song": "Glad You Exist",
         "artist": "Dan + Shay",
         "weeks-on-board": 22,
         "date": "2021-07-17",
         "json_genre": "{'pagination': {'page': 1, 'pages': 1, 'per_page': 50, 'items': 3, 'urls': {}}, 'results': [{'count…",
         "lyrics": "[Verse 1]\nHere's to all the late-night drunk phone calls that you picked up\nHere's to all the bad d…",
         "genres": "['Folk, World, & Country', 'Folk, World, & Country', 'Folk, World, & Country']",
         "genre": "Folk, World, & Country",
         "country": "['US', 'US', 'US']",
         "format": "[\"['File', 'AAC', 'Single']\", \"['File', 'AAC', 'Single']\", \"['File', 'AAC', 'Single']\"]",
         "community": "[\"{'want': 0, 'have': 0}\", \"{'want': 0, 'have': 0}}\", \"{'want': 0, 'have': 0}\"]",
         "frequent_country": "US",
         "comm_want_num": 0,
         "comm_have_num": 0,
         "_deepnote_index_column": 24
        },
        {
         "Unnamed: 0": 26,
         "Unnamed: 0.1": 26,
         "Unnamed: 0.1.1": 26,
         "song": "Astronaut In The Ocean",
         "artist": "Masked Wolf",
         "weeks-on-board": 21,
         "date": "2021-07-17",
         "json_genre": "{'pagination': {'page': 1, 'pages': 1, 'per_page': 50, 'items': 1, 'urls': {}}, 'results': [{'count…",
         "lyrics": "[Intro]\nAstronaut\n\n[Chorus]\nWhat you know about rollin' down in the deep?\nWhen your brain goes numb…",
         "genres": "['Hip Hop']",
         "genre": "Hip Hop",
         "country": "['US']",
         "format": "[\"['File', 'MP3', 'Single']\"]",
         "community": "[\"{'want': 18, 'have': 10}\"]",
         "frequent_country": "US",
         "comm_want_num": 18,
         "comm_have_num": 10,
         "_deepnote_index_column": 26
        },
        {
         "Unnamed: 0": 35,
         "Unnamed: 0.1": 35,
         "Unnamed: 0.1.1": 35,
         "song": "Tombstone",
         "artist": "Rod Wave",
         "weeks-on-board": 15,
         "date": "2021-07-17",
         "json_genre": "{'pagination': {'page': 1, 'pages': 1, 'per_page': 50, 'items': 1, 'urls': {}}, 'results': [{'count…",
         "lyrics": "[Intro]\nDamn, this motherfucker too crazy, Saucii\nLet that shit ride, Eighty8\nWhen the shit over, i…",
         "genres": "['Hip Hop']",
         "genre": "Hip Hop",
         "country": "['Unknown']",
         "format": "[\"['File', 'AAC', 'Single']\"]",
         "community": "[\"{'want': 0, 'have': 2}\"]",
         "frequent_country": "Unknown",
         "comm_want_num": 0,
         "comm_have_num": 2,
         "_deepnote_index_column": 35
        },
        {
         "Unnamed: 0": 36,
         "Unnamed: 0.1": 36,
         "Unnamed: 0.1.1": 36,
         "song": "Good 4 U",
         "artist": "Olivia Rodrigo",
         "weeks-on-board": 8,
         "date": "2021-07-17",
         "json_genre": "{'pagination': {'page': 1, 'pages': 1, 'per_page': 50, 'items': 1, 'urls': {}}, 'results': [{'count…",
         "lyrics": "[Intro]\n(Ah)\n\n[Verse 1]\nWell, good for you, I guess you moved on really easily\nYou found a new girl…",
         "genres": "['Rock']",
         "genre": "Rock",
         "country": "['Unknown']",
         "format": "[\"['File', 'AAC', 'Single']\"]",
         "community": "[\"{'want': 9, 'have': 10}\"]",
         "frequent_country": "Unknown",
         "comm_want_num": 9,
         "comm_have_num": 10,
         "_deepnote_index_column": 36
        },
        {
         "Unnamed: 0": 38,
         "Unnamed: 0.1": 38,
         "Unnamed: 0.1.1": 38,
         "song": "Single Saturday Night",
         "artist": "Cole Swindell",
         "weeks-on-board": 10,
         "date": "2021-07-17",
         "json_genre": "{'pagination': {'page': 1, 'pages': 1, 'per_page': 50, 'items': 1, 'urls': {}}, 'results': [{'count…",
         "lyrics": "[Verse 1]\nI was out taking shots\nThrowing down at the spot\nThree sheets, just me and the guys\nEvery…",
         "genres": "['Folk, World, & Country']",
         "genre": "Folk, World, & Country",
         "country": "['US']",
         "format": "[\"['File', 'AAC', 'Single']\"]",
         "community": "[\"{'want': 0, 'have': 0}\"]",
         "frequent_country": "US",
         "comm_want_num": 0,
         "comm_have_num": 0,
         "_deepnote_index_column": 38
        },
        {
         "Unnamed: 0": 41,
         "Unnamed: 0.1": 41,
         "Unnamed: 0.1.1": 41,
         "song": "Deja Vu",
         "artist": "Olivia Rodrigo",
         "weeks-on-board": 14,
         "date": "2021-07-17",
         "json_genre": "{'pagination': {'page': 1, 'pages': 1, 'per_page': 50, 'items': 1, 'urls': {}}, 'results': [{'count…",
         "lyrics": "[Verse 1]\nCar rides to Malibu\nStrawberry ice cream, one spoon for two\nAnd tradin' jackets\nLaughin’ …",
         "genres": "['Pop']",
         "genre": "Pop",
         "country": "['Unknown']",
         "format": "[\"['File', 'AAC', 'Single']\"]",
         "community": "[\"{'want': 6, 'have': 9}\"]",
         "frequent_country": "Unknown",
         "comm_want_num": 6,
         "comm_have_num": 9,
         "_deepnote_index_column": 41
        },
        {
         "Unnamed: 0": 44,
         "Unnamed: 0.1": 44,
         "Unnamed: 0.1.1": 44,
         "song": "Montero (Call Me By Your Name)",
         "artist": "Lil Nas X",
         "weeks-on-board": 15,
         "date": "2021-07-17",
         "json_genre": "{'pagination': {'page': 1, 'pages': 1, 'per_page': 50, 'items': 3, 'urls': {}}, 'results': [{'count…",
         "lyrics": "[Verse 1]\nI caught it bad yesterday\nYou hit me with a call to your place\nAin't been out in a while …",
         "genres": "[\"Hip Hop', 'Pop\", 'Hip Hop', \"Hip Hop', 'Pop\"]",
         "genre": "Hip Hop', 'Pop",
         "country": "['Unknown', 'Unknown', 'Unknown']",
         "format": "[\"['File', 'MP3', 'Single', 'Stereo']\", \"['File', 'AAC', 'Single', 'Stereo']\", \"['File', 'MP3', 'Si…",
         "community": "[\"{'want': 4, 'have': 5}\", \"{'want': 12, 'have': 10}\"]",
         "frequent_country": "Unknown",
         "comm_want_num": 8,
         "comm_have_num": 7.5,
         "_deepnote_index_column": 44
        },
        {
         "Unnamed: 0": 46,
         "Unnamed: 0.1": 46,
         "Unnamed: 0.1.1": 46,
         "song": "Miss The Rage",
         "artist": "Trippie Redd & Playboi Carti",
         "weeks-on-board": 9,
         "date": "2021-07-17",
         "json_genre": "{'pagination': {'page': 1, 'pages': 1, 'per_page': 50, 'items': 1, 'urls': {}}, 'results': [{'count…",
         "lyrics": "[Intro: Trippie Redd]\nI love Trippie Redd\nHaha\n\n[Chorus: Trippie Redd]\nI can't see a damn thing if …",
         "genres": "['Hip Hop']",
         "genre": "Hip Hop",
         "country": "['Unknown']",
         "format": "[\"['File', 'AAC', 'Single']\"]",
         "community": "[\"{'want': 3, 'have': 1}\"]",
         "frequent_country": "Unknown",
         "comm_want_num": 3,
         "comm_have_num": 1,
         "_deepnote_index_column": 46
        },
        {
         "Unnamed: 0": 48,
         "Unnamed: 0.1": 48,
         "Unnamed: 0.1.1": 48,
         "song": "Late At Night",
         "artist": "Roddy Ricch",
         "weeks-on-board": 5,
         "date": "2021-07-17",
         "json_genre": "{'pagination': {'page': 1, 'pages': 1, 'per_page': 50, 'items': 3, 'urls': {}}, 'results': [{'count…",
         "lyrics": "[Intro]\nLate at night\nKiss me in the mornin', late at night\nCatch me drivin' down 405\nCatch me and …",
         "genres": "['Hip Hop', 'Hip Hop', 'Hip Hop']",
         "genre": "Hip Hop",
         "country": "['US', 'Unknown', 'US']",
         "format": "['[\\'Flexi-disc\\', \\'7\"\\', \\'45 RPM\\', \\'Single Sided\\']', \"['File', 'AAC', 'Single']\", '[\\'Flexi-d…",
         "community": "[\"{'want': 3, 'have': 17}}\", \"{'want': 0, 'have': 1}\", \"{'want': 3, 'have': 16}\"]",
         "frequent_country": "US",
         "comm_want_num": 2,
         "comm_have_num": 11.333333333333334,
         "_deepnote_index_column": 48
        },
        {
         "Unnamed: 0": 49,
         "Unnamed: 0.1": 49,
         "Unnamed: 0.1.1": 49,
         "song": "Country Again",
         "artist": "Thomas Rhett",
         "weeks-on-board": 10,
         "date": "2021-07-17",
         "json_genre": "{'pagination': {'page': 1, 'pages': 1, 'per_page': 50, 'items': 3, 'urls': {}}, 'results': [{'count…",
         "lyrics": "[Verse 1]\nI quit huntin' with my daddy, guess I didn't make the time\nAnd it's been a year since I'v…",
         "genres": "['Folk, World, & Country', 'Folk, World, & Country', 'Folk, World, & Country']",
         "genre": "Folk, World, & Country",
         "country": "['Europe', 'US', 'US']",
         "format": "[\"['CD', 'Album']\", \"['CD', 'Album']\", \"['CD', 'Album']\"]",
         "community": "[\"{'want': 2, 'have': 8}\", \"{'want': 3, 'have': 36}\"]",
         "frequent_country": "US",
         "comm_want_num": 2.5,
         "comm_have_num": 22,
         "_deepnote_index_column": 49
        },
        {
         "Unnamed: 0": 58,
         "Unnamed: 0.1": 58,
         "Unnamed: 0.1.1": 58,
         "song": "Save Your Tears",
         "artist": "The Weeknd & Ariana Grande",
         "weeks-on-board": 30,
         "date": "2021-07-17",
         "json_genre": "{'pagination': {'page': 1, 'pages': 1, 'per_page': 50, 'items': 2, 'urls': {}}, 'results': [{'count…",
         "lyrics": "[Intro: The Weeknd & Ariana Grande]\nOoh (Ooh)\nNa-na, yeah\n\n[Verse 1: The Weeknd]\nI saw you dancing …",
         "genres": "['Pop', 'Pop']",
         "genre": "Pop",
         "country": "['Unknown', 'Unknown']",
         "format": "[\"['File', 'AAC', 'Single']\", \"['File', 'AAC', 'Single']\"]",
         "community": "[\"{'want': 23, 'have': 14}}\", \"{'want': 8, 'have': 13}\"]",
         "frequent_country": "Unknown",
         "comm_want_num": 15.5,
         "comm_have_num": 13.5,
         "_deepnote_index_column": 58
        },
        {
         "Unnamed: 0": 63,
         "Unnamed: 0.1": 63,
         "Unnamed: 0.1.1": 63,
         "song": "Build A Bitch",
         "artist": "Bella Poarch",
         "weeks-on-board": 8,
         "date": "2021-07-17",
         "json_genre": "{'pagination': {'page': 1, 'pages': 1, 'per_page': 50, 'items': 1, 'urls': {}}, 'results': [{'count…",
         "lyrics": "[Chorus]\nThis ain't Build a Bitch (A bitch)\nYou don't get to pick and choose\nDifferent ass and bigg…",
         "genres": "[\"Pop', 'Classical\"]",
         "genre": "Pop', 'Classical",
         "country": "['US']",
         "format": "[\"['File', 'MP3', 'MPEG-4 Video', 'Single', 'Stereo']\"]",
         "community": "[\"{'want': 2, 'have': 3}\"]",
         "frequent_country": "US",
         "comm_want_num": 2,
         "comm_have_num": 3,
         "_deepnote_index_column": 63
        },
        {
         "Unnamed: 0": 64,
         "Unnamed: 0.1": 64,
         "Unnamed: 0.1.1": 64,
         "song": "Red Light Green Light",
         "artist": "DaBaby",
         "weeks-on-board": 2,
         "date": "2021-07-17",
         "json_genre": "{'pagination': {'page': 1, 'pages': 1, 'per_page': 50, 'items': 1, 'urls': {}}, 'results': [{'count…",
         "lyrics": "[Chorus]\nBaby, probably in a fast car (Zoom)\nRidin' with the cap off, pull off with a bad broad (Ba…",
         "genres": "['Hip Hop']",
         "genre": "Hip Hop",
         "country": "['Unknown']",
         "format": "[\"['File', 'AAC', 'Single']\"]",
         "community": "[\"{'want': 0, 'have': 1}\"]",
         "frequent_country": "Unknown",
         "comm_want_num": 0,
         "comm_have_num": 1,
         "_deepnote_index_column": 64
        },
        {
         "Unnamed: 0": 65,
         "Unnamed: 0.1": 65,
         "Unnamed: 0.1.1": 65,
         "song": "Butter",
         "artist": "BTS",
         "weeks-on-board": 7,
         "date": "2021-07-17",
         "json_genre": "{'pagination': {'page': 1, 'pages': 1, 'per_page': 50, 'items': 7, 'urls': {}}, 'results': [{'count…",
         "lyrics": "[Verse 1: Jung Kook, V & j-hope]\nSmooth like butter\nLike a criminal undercover\nGon' pop like troubl…",
         "genres": "['Pop', 'Pop', 'Pop', 'Pop', 'Pop', \"Electronic', 'Pop\", \"Electronic', 'Pop\"]",
         "genre": "Pop",
         "country": "['US', 'South Korea', 'US', 'US', 'South Korea', 'UK & US', 'Unknown']",
         "format": "[\"['Cassette', 'Single', 'Limited Edition']\", \"['CD', 'Single']\", '[\\'Vinyl\\', \\'7\"\\', \\'45 RPM\\', …",
         "community": "[\"{'want': 18, 'have': 34}\", \"{'want': 13, 'have': 140}\", \"{'want': 125, 'have': 217}\", \"{'want': 1…",
         "frequent_country": "US",
         "comm_want_num": 48.285714285714285,
         "comm_have_num": 145.42857142857142,
         "_deepnote_index_column": 65
        },
        {
         "Unnamed: 0": 115,
         "Unnamed: 0.1": 115,
         "Unnamed: 0.1.1": 115,
         "song": "Up",
         "artist": "Cardi B",
         "weeks-on-board": 20,
         "date": "2021-07-03",
         "json_genre": "{'pagination': {'page': 1, 'pages': 1, 'per_page': 50, 'items': 12, 'urls': {}}, 'results': [{'coun…",
         "lyrics": "[Intro]\nUp, up, up (Ayy), up (Uh), up, look (This is fire)\nOnce upon a time, man, I heard that I wa…",
         "genres": "['Hip Hop', 'Hip Hop', 'Hip Hop', 'Hip Hop', 'Hip Hop', 'Hip Hop', 'Electronic', 'Electronic', \"Ele…",
         "genre": "Hip Hop",
         "country": "['US', 'Europe', 'Europe', 'US', 'Australia', 'US', 'Netherlands', 'Netherlands', 'Netherlands', 'S…",
         "format": "[\"['CD', 'Single', 'Limited Edition']\", \"['CD', 'Single', 'Limited Edition']\", \"['CD', 'Single', 'L…",
         "community": "[\"{'want': 61, 'have': 79}}\", \"{'want': 12, 'have': 20}\", \"{'want': 9, 'have': 14}\", \"{'want': 16, …",
         "frequent_country": "US",
         "comm_want_num": 12.727272727272727,
         "comm_have_num": 17.09090909090909,
         "_deepnote_index_column": 115
        }
       ],
       "rows_bottom": null
      },
      "text/plain": "     Unnamed: 0  Unnamed: 0.1  Unnamed: 0.1.1  \\\n0             0             0               0   \n1             1             1               1   \n2             2             2               2   \n5             5             5               5   \n6             6             6               6   \n9             9             9               9   \n11           11            11              11   \n13           13            13              13   \n14           14            14              14   \n15           15            15              15   \n17           17            17              17   \n19           19            19              19   \n20           20            20              20   \n21           21            21              21   \n22           22            22              22   \n24           24            24              24   \n26           26            26              26   \n35           35            35              35   \n36           36            36              36   \n38           38            38              38   \n41           41            41              41   \n44           44            44              44   \n46           46            46              46   \n48           48            48              48   \n49           49            49              49   \n58           58            58              58   \n63           63            63              63   \n64           64            64              64   \n65           65            65              65   \n115         115           115             115   \n\n                                  song                        artist  \\\n0                              Rapstar                        Polo G   \n1                         Straightenin                         Migos   \n2                    Ball If I Want To                        DaBaby   \n5                              Tell Em                Cochise & $NOT   \n6                            Telepatia                    Kali Uchis   \n9    Drunk (And I Don't Wanna Go Home)   Elle King & Miranda Lambert   \n11                             Beggin'                      Maneskin   \n13                     Drivers License                Olivia Rodrigo   \n14              Heartbreak Anniversary                        Giveon   \n15                          Heat Waves                 Glass Animals   \n17                     Blinding Lights                    The Weeknd   \n19                           Thot Shit           Megan Thee Stallion   \n20                          Bad Habits                    Ed Sheeran   \n21                          Todo de Ti                Rauw Alejandro   \n22                              Arcade               Duncan Laurence   \n24                      Glad You Exist                    Dan + Shay   \n26              Astronaut In The Ocean                   Masked Wolf   \n35                           Tombstone                      Rod Wave   \n36                            Good 4 U                Olivia Rodrigo   \n38               Single Saturday Night                 Cole Swindell   \n41                             Deja Vu                Olivia Rodrigo   \n44      Montero (Call Me By Your Name)                     Lil Nas X   \n46                       Miss The Rage  Trippie Redd & Playboi Carti   \n48                       Late At Night                   Roddy Ricch   \n49                       Country Again                  Thomas Rhett   \n58                     Save Your Tears    The Weeknd & Ariana Grande   \n63                       Build A Bitch                  Bella Poarch   \n64               Red Light Green Light                        DaBaby   \n65                              Butter                           BTS   \n115                                 Up                       Cardi B   \n\n     weeks-on-board        date  \\\n0                13  2021-07-17   \n1                 8  2021-07-17   \n2                 3  2021-07-17   \n5                 4  2021-07-17   \n6                20  2021-07-17   \n9                11  2021-07-17   \n11                2  2021-07-17   \n13               26  2021-07-17   \n14               21  2021-07-17   \n15               25  2021-07-17   \n17               83  2021-07-17   \n19                4  2021-07-17   \n20                2  2021-07-17   \n21                6  2021-07-17   \n22               13  2021-07-17   \n24               22  2021-07-17   \n26               21  2021-07-17   \n35               15  2021-07-17   \n36                8  2021-07-17   \n38               10  2021-07-17   \n41               14  2021-07-17   \n44               15  2021-07-17   \n46                9  2021-07-17   \n48                5  2021-07-17   \n49               10  2021-07-17   \n58               30  2021-07-17   \n63                8  2021-07-17   \n64                2  2021-07-17   \n65                7  2021-07-17   \n115              20  2021-07-03   \n\n                                            json_genre  \\\n0    {'pagination': {'page': 1, 'pages': 1, 'per_pa...   \n1    {'pagination': {'page': 1, 'pages': 1, 'per_pa...   \n2    {'pagination': {'page': 1, 'pages': 1, 'per_pa...   \n5    {'pagination': {'page': 1, 'pages': 1, 'per_pa...   \n6    {'pagination': {'page': 1, 'pages': 1, 'per_pa...   \n9    {'pagination': {'page': 1, 'pages': 1, 'per_pa...   \n11   {'pagination': {'page': 1, 'pages': 1, 'per_pa...   \n13   {'pagination': {'page': 1, 'pages': 1, 'per_pa...   \n14   {'pagination': {'page': 1, 'pages': 1, 'per_pa...   \n15   {'pagination': {'page': 1, 'pages': 1, 'per_pa...   \n17   {'pagination': {'page': 1, 'pages': 2, 'per_pa...   \n19   {'pagination': {'page': 1, 'pages': 1, 'per_pa...   \n20   {'pagination': {'page': 1, 'pages': 1, 'per_pa...   \n21   {'pagination': {'page': 1, 'pages': 1, 'per_pa...   \n22   {'pagination': {'page': 1, 'pages': 1, 'per_pa...   \n24   {'pagination': {'page': 1, 'pages': 1, 'per_pa...   \n26   {'pagination': {'page': 1, 'pages': 1, 'per_pa...   \n35   {'pagination': {'page': 1, 'pages': 1, 'per_pa...   \n36   {'pagination': {'page': 1, 'pages': 1, 'per_pa...   \n38   {'pagination': {'page': 1, 'pages': 1, 'per_pa...   \n41   {'pagination': {'page': 1, 'pages': 1, 'per_pa...   \n44   {'pagination': {'page': 1, 'pages': 1, 'per_pa...   \n46   {'pagination': {'page': 1, 'pages': 1, 'per_pa...   \n48   {'pagination': {'page': 1, 'pages': 1, 'per_pa...   \n49   {'pagination': {'page': 1, 'pages': 1, 'per_pa...   \n58   {'pagination': {'page': 1, 'pages': 1, 'per_pa...   \n63   {'pagination': {'page': 1, 'pages': 1, 'per_pa...   \n64   {'pagination': {'page': 1, 'pages': 1, 'per_pa...   \n65   {'pagination': {'page': 1, 'pages': 1, 'per_pa...   \n115  {'pagination': {'page': 1, 'pages': 1, 'per_pa...   \n\n                                                lyrics  \\\n0    [Intro]\\n(Shout out my nigga Synco)\\n\\n[Chorus...   \n1    [Intro: Quavo]\\n(DJ Durel)\\n(Ayy Castro, go cr...   \n2    [Intro]\\n(If I want to)\\n(If I want to)\\n(If I...   \n5    [Intro: Cochise]\\nUh, yeah\\nYeah, yo, yo\\nYo, ...   \n6    Lyrics for this song are currently unavailable...   \n9    [Verse 1]\\nI got some money in my pocket, got ...   \n11   [Intro]\\nPut your loving hand out, baby\\n'Caus...   \n13   [Verse 1]\\nI got my driver's license last week...   \n14   [Intro]\\nOoh\\n\\n[Verse 1]\\nBalloons are deflat...   \n15   [Intro]\\n(Last night, all I think about is you...   \n17   [Intro]\\nYeah\\n\\n[Verse 1]\\nI've been tryna ca...   \n19   [Intro]\\n(OG Parker)\\n(And if the beat live, y...   \n20   [Intro]\\n(One, two, three, four)\\nOoh, ooh\\n\\n...   \n21   [Letra de \"Todo De Ti\"]\\n\\n[Intro]\\nOne, two\\n...   \n22   [Verse 1]\\nA broken heart is all that's left\\n...   \n24   [Verse 1]\\nHere's to all the late-night drunk ...   \n26   [Intro]\\nAstronaut\\n\\n[Chorus]\\nWhat you know ...   \n35   [Intro]\\nDamn, this motherfucker too crazy, Sa...   \n36   [Intro]\\n(Ah)\\n\\n[Verse 1]\\nWell, good for you...   \n38   [Verse 1]\\nI was out taking shots\\nThrowing do...   \n41   [Verse 1]\\nCar rides to Malibu\\nStrawberry ice...   \n44   [Verse 1]\\nI caught it bad yesterday\\nYou hit ...   \n46   [Intro: Trippie Redd]\\nI love Trippie Redd\\nHa...   \n48   [Intro]\\nLate at night\\nKiss me in the mornin'...   \n49   [Verse 1]\\nI quit huntin' with my daddy, guess...   \n58   [Intro: The Weeknd & Ariana Grande]\\nOoh (Ooh)...   \n63   [Chorus]\\nThis ain't Build a Bitch (A bitch)\\n...   \n64   [Chorus]\\nBaby, probably in a fast car (Zoom)\\...   \n65   [Verse 1: Jung Kook, V & j-hope]\\nSmooth like ...   \n115  [Intro]\\nUp, up, up (Ayy), up (Uh), up, look (...   \n\n                                                genres  \\\n0                                            [Hip Hop]   \n1                                            [Hip Hop]   \n2                                            [Hip Hop]   \n5                                            [Hip Hop]   \n6                               [Latin', 'Funk / Soul]   \n9    [Pop', 'Folk, World, & Country, Pop', 'Folk, W...   \n11                                              [Rock]   \n13                                     [Pop, Pop, Pop]   \n14                                       [Funk / Soul]   \n15                                 [Electronic', 'Pop]   \n17   [Electronic', 'Rock', 'Pop, Electronic, Electr...   \n19                                           [Hip Hop]   \n20   [Electronic', 'Pop, Electronic', 'Pop, Rock, E...   \n21         [Electronic', 'Latin', 'Funk / Soul', 'Pop]   \n22   [Pop, Pop, Pop, Pop, Electronic', 'Pop, Pop, P...   \n24   [Folk, World, & Country, Folk, World, & Countr...   \n26                                           [Hip Hop]   \n35                                           [Hip Hop]   \n36                                              [Rock]   \n38                            [Folk, World, & Country]   \n41                                               [Pop]   \n44           [Hip Hop', 'Pop, Hip Hop, Hip Hop', 'Pop]   \n46                                           [Hip Hop]   \n48                         [Hip Hop, Hip Hop, Hip Hop]   \n49   [Folk, World, & Country, Folk, World, & Countr...   \n58                                          [Pop, Pop]   \n63                                  [Pop', 'Classical]   \n64                                           [Hip Hop]   \n65   [Pop, Pop, Pop, Pop, Pop, Electronic', 'Pop, E...   \n115  [Hip Hop, Hip Hop, Hip Hop, Hip Hop, Hip Hop, ...   \n\n                                         genre  \\\n0                                      Hip Hop   \n1                                      Hip Hop   \n2                                      Hip Hop   \n5                                      Hip Hop   \n6                         Latin', 'Funk / Soul   \n9                Pop', 'Folk, World, & Country   \n11                                        Rock   \n13                                         Pop   \n14                                 Funk / Soul   \n15                           Electronic', 'Pop   \n17                          Electronic', 'Rock   \n19                                     Hip Hop   \n20                           Electronic', 'Pop   \n21   Electronic', 'Latin', 'Funk / Soul', 'Pop   \n22                                         Pop   \n24                      Folk, World, & Country   \n26                                     Hip Hop   \n35                                     Hip Hop   \n36                                        Rock   \n38                      Folk, World, & Country   \n41                                         Pop   \n44                              Hip Hop', 'Pop   \n46                                     Hip Hop   \n48                                     Hip Hop   \n49                      Folk, World, & Country   \n58                                         Pop   \n63                            Pop', 'Classical   \n64                                     Hip Hop   \n65                                         Pop   \n115                                    Hip Hop   \n\n                                               country  \\\n0                                            [Unknown]   \n1                                            [Unknown]   \n2                                            [Unknown]   \n5                                            [Unknown]   \n6                                            [Unknown]   \n9                                         [US, US, US]   \n11                                           [Unknown]   \n13   [Germany, Austria, & Switzerland, Europe, Germ...   \n14                                           [Unknown]   \n15                                       [UK & Europe]   \n17   [US, US, UK, Unknown, US, Unknown, Europe, US,...   \n19                                           [Unknown]   \n20   [Unknown, UK, Europe & US, Unknown, Unknown, U...   \n21                                                [US]   \n22   [Netherlands, Europe, Unknown, Europe, Unknown...   \n24                                        [US, US, US]   \n26                                                [US]   \n35                                           [Unknown]   \n36                                           [Unknown]   \n38                                                [US]   \n41                                           [Unknown]   \n44                         [Unknown, Unknown, Unknown]   \n46                                           [Unknown]   \n48                                   [US, Unknown, US]   \n49                                    [Europe, US, US]   \n58                                  [Unknown, Unknown]   \n63                                                [US]   \n64                                           [Unknown]   \n65   [US, South Korea, US, US, South Korea, UK & US...   \n115  [US, Europe, Europe, US, Australia, US, Nether...   \n\n                                                format  \\\n0                          [['File', 'AAC', 'Single']]   \n1                          [['File', 'AAC', 'Single']]   \n2                          [['File', 'AAC', 'Single']]   \n5                          [['File', 'AAC', 'Single']]   \n6                          [['File', 'AAC', 'Single']]   \n9    [['File', 'AAC', 'Single'], ['File', 'AAC', 'S...   \n11                         [['File', 'AAC', 'Single']]   \n13   [['CD', 'Single', 'Limited Edition'], ['File',...   \n14                         [['File', 'AAC', 'Single']]   \n15                        [['File', 'ALAC', 'Single']]   \n17   [['Vinyl', '12\"', '45 RPM', 'Maxi-Single', 'Sp...   \n19                         [['File', 'AAC', 'Single']]   \n20   [['File', 'AAC', 'Single', 'Stereo'], ['CD', '...   \n21                         [['File', 'WAV', 'Single']]   \n22   [['Vinyl', '10\"', '33 ⅓ RPM', 'EP', 'Stereo'],...   \n24   [['File', 'AAC', 'Single'], ['File', 'AAC', 'S...   \n26                         [['File', 'MP3', 'Single']]   \n35                         [['File', 'AAC', 'Single']]   \n36                         [['File', 'AAC', 'Single']]   \n38                         [['File', 'AAC', 'Single']]   \n41                         [['File', 'AAC', 'Single']]   \n44   [['File', 'MP3', 'Single', 'Stereo'], ['File',...   \n46                         [['File', 'AAC', 'Single']]   \n48   [['Flexi-disc', '7\"', '45 RPM', 'Single Sided'...   \n49   [['CD', 'Album'], ['CD', 'Album'], ['CD', 'Alb...   \n58   [['File', 'AAC', 'Single'], ['File', 'AAC', 'S...   \n63   [['File', 'MP3', 'MPEG-4 Video', 'Single', 'St...   \n64                         [['File', 'AAC', 'Single']]   \n65   [['Cassette', 'Single', 'Limited Edition'], ['...   \n115  [['CD', 'Single', 'Limited Edition'], ['CD', '...   \n\n                                             community frequent_country  \\\n0                             [{'want': 0, 'have': 4}]          Unknown   \n1                             [{'want': 1, 'have': 4}]          Unknown   \n2                             [{'want': 0, 'have': 2}]          Unknown   \n5                             [{'want': 3, 'have': 1}]          Unknown   \n6                             [{'want': 1, 'have': 0}]          Unknown   \n9    [{'want': 0, 'have': 2}}, {'want': 0, 'have': ...               US   \n11                            [{'want': 0, 'have': 1}]          Unknown   \n13   [{'want': 125, 'have': 192}}, {'want': 11, 'ha...     &Switzerland   \n14                            [{'want': 4, 'have': 3}]          Unknown   \n15                            [{'want': 6, 'have': 6}]        UK&Europe   \n17   [{'want': 502, 'have': 369}, {'want': 9, 'have...               US   \n19                            [{'want': 1, 'have': 1}]          Unknown   \n20   [{'want': 0, 'have': 5}, {'want': 38, 'have': ...          Unknown   \n21                            [{'want': 2, 'have': 1}]               US   \n22   [{'want': 10, 'have': 15}, {'want': 6, 'have':...          Unknown   \n24   [{'want': 0, 'have': 0}, {'want': 0, 'have': 0...               US   \n26                          [{'want': 18, 'have': 10}]               US   \n35                            [{'want': 0, 'have': 2}]          Unknown   \n36                           [{'want': 9, 'have': 10}]          Unknown   \n38                            [{'want': 0, 'have': 0}]               US   \n41                            [{'want': 6, 'have': 9}]          Unknown   \n44   [{'want': 4, 'have': 5}, {'want': 12, 'have': ...          Unknown   \n46                            [{'want': 3, 'have': 1}]          Unknown   \n48   [{'want': 3, 'have': 17}}, {'want': 0, 'have':...               US   \n49   [{'want': 2, 'have': 8}, {'want': 3, 'have': 36}]               US   \n58   [{'want': 23, 'have': 14}}, {'want': 8, 'have'...          Unknown   \n63                            [{'want': 2, 'have': 3}]               US   \n64                            [{'want': 0, 'have': 1}]          Unknown   \n65   [{'want': 18, 'have': 34}, {'want': 13, 'have'...               US   \n115  [{'want': 61, 'have': 79}}, {'want': 12, 'have...               US   \n\n     comm_want_num  comm_have_num  \n0         0.000000       4.000000  \n1         1.000000       4.000000  \n2         0.000000       2.000000  \n5         3.000000       1.000000  \n6         1.000000       0.000000  \n9         0.000000       1.333333  \n11        0.000000       1.000000  \n13       83.333333     128.000000  \n14        4.000000       3.000000  \n15        6.000000       6.000000  \n17      125.100000     115.900000  \n19        1.000000       1.000000  \n20        5.846154      49.923077  \n21        2.000000       1.000000  \n22       24.777778      42.111111  \n24        0.000000       0.000000  \n26       18.000000      10.000000  \n35        0.000000       2.000000  \n36        9.000000      10.000000  \n38        0.000000       0.000000  \n41        6.000000       9.000000  \n44        8.000000       7.500000  \n46        3.000000       1.000000  \n48        2.000000      11.333333  \n49        2.500000      22.000000  \n58       15.500000      13.500000  \n63        2.000000       3.000000  \n64        0.000000       1.000000  \n65       48.285714     145.428571  \n115      12.727273      17.090909  ",
      "text/html": "<div>\n<style scoped>\n    .dataframe tbody tr th:only-of-type {\n        vertical-align: middle;\n    }\n\n    .dataframe tbody tr th {\n        vertical-align: top;\n    }\n\n    .dataframe thead th {\n        text-align: right;\n    }\n</style>\n<table border=\"1\" class=\"dataframe\">\n  <thead>\n    <tr style=\"text-align: right;\">\n      <th></th>\n      <th>Unnamed: 0</th>\n      <th>Unnamed: 0.1</th>\n      <th>Unnamed: 0.1.1</th>\n      <th>song</th>\n      <th>artist</th>\n      <th>weeks-on-board</th>\n      <th>date</th>\n      <th>json_genre</th>\n      <th>lyrics</th>\n      <th>genres</th>\n      <th>genre</th>\n      <th>country</th>\n      <th>format</th>\n      <th>community</th>\n      <th>frequent_country</th>\n      <th>comm_want_num</th>\n      <th>comm_have_num</th>\n    </tr>\n  </thead>\n  <tbody>\n    <tr>\n      <th>0</th>\n      <td>0</td>\n      <td>0</td>\n      <td>0</td>\n      <td>Rapstar</td>\n      <td>Polo G</td>\n      <td>13</td>\n      <td>2021-07-17</td>\n      <td>{'pagination': {'page': 1, 'pages': 1, 'per_pa...</td>\n      <td>[Intro]\\n(Shout out my nigga Synco)\\n\\n[Chorus...</td>\n      <td>[Hip Hop]</td>\n      <td>Hip Hop</td>\n      <td>[Unknown]</td>\n      <td>[['File', 'AAC', 'Single']]</td>\n      <td>[{'want': 0, 'have': 4}]</td>\n      <td>Unknown</td>\n      <td>0.000000</td>\n      <td>4.000000</td>\n    </tr>\n    <tr>\n      <th>1</th>\n      <td>1</td>\n      <td>1</td>\n      <td>1</td>\n      <td>Straightenin</td>\n      <td>Migos</td>\n      <td>8</td>\n      <td>2021-07-17</td>\n      <td>{'pagination': {'page': 1, 'pages': 1, 'per_pa...</td>\n      <td>[Intro: Quavo]\\n(DJ Durel)\\n(Ayy Castro, go cr...</td>\n      <td>[Hip Hop]</td>\n      <td>Hip Hop</td>\n      <td>[Unknown]</td>\n      <td>[['File', 'AAC', 'Single']]</td>\n      <td>[{'want': 1, 'have': 4}]</td>\n      <td>Unknown</td>\n      <td>1.000000</td>\n      <td>4.000000</td>\n    </tr>\n    <tr>\n      <th>2</th>\n      <td>2</td>\n      <td>2</td>\n      <td>2</td>\n      <td>Ball If I Want To</td>\n      <td>DaBaby</td>\n      <td>3</td>\n      <td>2021-07-17</td>\n      <td>{'pagination': {'page': 1, 'pages': 1, 'per_pa...</td>\n      <td>[Intro]\\n(If I want to)\\n(If I want to)\\n(If I...</td>\n      <td>[Hip Hop]</td>\n      <td>Hip Hop</td>\n      <td>[Unknown]</td>\n      <td>[['File', 'AAC', 'Single']]</td>\n      <td>[{'want': 0, 'have': 2}]</td>\n      <td>Unknown</td>\n      <td>0.000000</td>\n      <td>2.000000</td>\n    </tr>\n    <tr>\n      <th>5</th>\n      <td>5</td>\n      <td>5</td>\n      <td>5</td>\n      <td>Tell Em</td>\n      <td>Cochise &amp; $NOT</td>\n      <td>4</td>\n      <td>2021-07-17</td>\n      <td>{'pagination': {'page': 1, 'pages': 1, 'per_pa...</td>\n      <td>[Intro: Cochise]\\nUh, yeah\\nYeah, yo, yo\\nYo, ...</td>\n      <td>[Hip Hop]</td>\n      <td>Hip Hop</td>\n      <td>[Unknown]</td>\n      <td>[['File', 'AAC', 'Single']]</td>\n      <td>[{'want': 3, 'have': 1}]</td>\n      <td>Unknown</td>\n      <td>3.000000</td>\n      <td>1.000000</td>\n    </tr>\n    <tr>\n      <th>6</th>\n      <td>6</td>\n      <td>6</td>\n      <td>6</td>\n      <td>Telepatia</td>\n      <td>Kali Uchis</td>\n      <td>20</td>\n      <td>2021-07-17</td>\n      <td>{'pagination': {'page': 1, 'pages': 1, 'per_pa...</td>\n      <td>Lyrics for this song are currently unavailable...</td>\n      <td>[Latin', 'Funk / Soul]</td>\n      <td>Latin', 'Funk / Soul</td>\n      <td>[Unknown]</td>\n      <td>[['File', 'AAC', 'Single']]</td>\n      <td>[{'want': 1, 'have': 0}]</td>\n      <td>Unknown</td>\n      <td>1.000000</td>\n      <td>0.000000</td>\n    </tr>\n    <tr>\n      <th>9</th>\n      <td>9</td>\n      <td>9</td>\n      <td>9</td>\n      <td>Drunk (And I Don't Wanna Go Home)</td>\n      <td>Elle King &amp; Miranda Lambert</td>\n      <td>11</td>\n      <td>2021-07-17</td>\n      <td>{'pagination': {'page': 1, 'pages': 1, 'per_pa...</td>\n      <td>[Verse 1]\\nI got some money in my pocket, got ...</td>\n      <td>[Pop', 'Folk, World, &amp; Country, Pop', 'Folk, W...</td>\n      <td>Pop', 'Folk, World, &amp; Country</td>\n      <td>[US, US, US]</td>\n      <td>[['File', 'AAC', 'Single'], ['File', 'AAC', 'S...</td>\n      <td>[{'want': 0, 'have': 2}}, {'want': 0, 'have': ...</td>\n      <td>US</td>\n      <td>0.000000</td>\n      <td>1.333333</td>\n    </tr>\n    <tr>\n      <th>11</th>\n      <td>11</td>\n      <td>11</td>\n      <td>11</td>\n      <td>Beggin'</td>\n      <td>Maneskin</td>\n      <td>2</td>\n      <td>2021-07-17</td>\n      <td>{'pagination': {'page': 1, 'pages': 1, 'per_pa...</td>\n      <td>[Intro]\\nPut your loving hand out, baby\\n'Caus...</td>\n      <td>[Rock]</td>\n      <td>Rock</td>\n      <td>[Unknown]</td>\n      <td>[['File', 'AAC', 'Single']]</td>\n      <td>[{'want': 0, 'have': 1}]</td>\n      <td>Unknown</td>\n      <td>0.000000</td>\n      <td>1.000000</td>\n    </tr>\n    <tr>\n      <th>13</th>\n      <td>13</td>\n      <td>13</td>\n      <td>13</td>\n      <td>Drivers License</td>\n      <td>Olivia Rodrigo</td>\n      <td>26</td>\n      <td>2021-07-17</td>\n      <td>{'pagination': {'page': 1, 'pages': 1, 'per_pa...</td>\n      <td>[Verse 1]\\nI got my driver's license last week...</td>\n      <td>[Pop, Pop, Pop]</td>\n      <td>Pop</td>\n      <td>[Germany, Austria, &amp; Switzerland, Europe, Germ...</td>\n      <td>[['CD', 'Single', 'Limited Edition'], ['File',...</td>\n      <td>[{'want': 125, 'have': 192}}, {'want': 11, 'ha...</td>\n      <td>&amp;Switzerland</td>\n      <td>83.333333</td>\n      <td>128.000000</td>\n    </tr>\n    <tr>\n      <th>14</th>\n      <td>14</td>\n      <td>14</td>\n      <td>14</td>\n      <td>Heartbreak Anniversary</td>\n      <td>Giveon</td>\n      <td>21</td>\n      <td>2021-07-17</td>\n      <td>{'pagination': {'page': 1, 'pages': 1, 'per_pa...</td>\n      <td>[Intro]\\nOoh\\n\\n[Verse 1]\\nBalloons are deflat...</td>\n      <td>[Funk / Soul]</td>\n      <td>Funk / Soul</td>\n      <td>[Unknown]</td>\n      <td>[['File', 'AAC', 'Single']]</td>\n      <td>[{'want': 4, 'have': 3}]</td>\n      <td>Unknown</td>\n      <td>4.000000</td>\n      <td>3.000000</td>\n    </tr>\n    <tr>\n      <th>15</th>\n      <td>15</td>\n      <td>15</td>\n      <td>15</td>\n      <td>Heat Waves</td>\n      <td>Glass Animals</td>\n      <td>25</td>\n      <td>2021-07-17</td>\n      <td>{'pagination': {'page': 1, 'pages': 1, 'per_pa...</td>\n      <td>[Intro]\\n(Last night, all I think about is you...</td>\n      <td>[Electronic', 'Pop]</td>\n      <td>Electronic', 'Pop</td>\n      <td>[UK &amp; Europe]</td>\n      <td>[['File', 'ALAC', 'Single']]</td>\n      <td>[{'want': 6, 'have': 6}]</td>\n      <td>UK&amp;Europe</td>\n      <td>6.000000</td>\n      <td>6.000000</td>\n    </tr>\n    <tr>\n      <th>17</th>\n      <td>17</td>\n      <td>17</td>\n      <td>17</td>\n      <td>Blinding Lights</td>\n      <td>The Weeknd</td>\n      <td>83</td>\n      <td>2021-07-17</td>\n      <td>{'pagination': {'page': 1, 'pages': 2, 'per_pa...</td>\n      <td>[Intro]\\nYeah\\n\\n[Verse 1]\\nI've been tryna ca...</td>\n      <td>[Electronic', 'Rock', 'Pop, Electronic, Electr...</td>\n      <td>Electronic', 'Rock</td>\n      <td>[US, US, UK, Unknown, US, Unknown, Europe, US,...</td>\n      <td>[['Vinyl', '12\"', '45 RPM', 'Maxi-Single', 'Sp...</td>\n      <td>[{'want': 502, 'have': 369}, {'want': 9, 'have...</td>\n      <td>US</td>\n      <td>125.100000</td>\n      <td>115.900000</td>\n    </tr>\n    <tr>\n      <th>19</th>\n      <td>19</td>\n      <td>19</td>\n      <td>19</td>\n      <td>Thot Shit</td>\n      <td>Megan Thee Stallion</td>\n      <td>4</td>\n      <td>2021-07-17</td>\n      <td>{'pagination': {'page': 1, 'pages': 1, 'per_pa...</td>\n      <td>[Intro]\\n(OG Parker)\\n(And if the beat live, y...</td>\n      <td>[Hip Hop]</td>\n      <td>Hip Hop</td>\n      <td>[Unknown]</td>\n      <td>[['File', 'AAC', 'Single']]</td>\n      <td>[{'want': 1, 'have': 1}]</td>\n      <td>Unknown</td>\n      <td>1.000000</td>\n      <td>1.000000</td>\n    </tr>\n    <tr>\n      <th>20</th>\n      <td>20</td>\n      <td>20</td>\n      <td>20</td>\n      <td>Bad Habits</td>\n      <td>Ed Sheeran</td>\n      <td>2</td>\n      <td>2021-07-17</td>\n      <td>{'pagination': {'page': 1, 'pages': 1, 'per_pa...</td>\n      <td>[Intro]\\n(One, two, three, four)\\nOoh, ooh\\n\\n...</td>\n      <td>[Electronic', 'Pop, Electronic', 'Pop, Rock, E...</td>\n      <td>Electronic', 'Pop</td>\n      <td>[Unknown, UK, Europe &amp; US, Unknown, Unknown, U...</td>\n      <td>[['File', 'AAC', 'Single', 'Stereo'], ['CD', '...</td>\n      <td>[{'want': 0, 'have': 5}, {'want': 38, 'have': ...</td>\n      <td>Unknown</td>\n      <td>5.846154</td>\n      <td>49.923077</td>\n    </tr>\n    <tr>\n      <th>21</th>\n      <td>21</td>\n      <td>21</td>\n      <td>21</td>\n      <td>Todo de Ti</td>\n      <td>Rauw Alejandro</td>\n      <td>6</td>\n      <td>2021-07-17</td>\n      <td>{'pagination': {'page': 1, 'pages': 1, 'per_pa...</td>\n      <td>[Letra de \"Todo De Ti\"]\\n\\n[Intro]\\nOne, two\\n...</td>\n      <td>[Electronic', 'Latin', 'Funk / Soul', 'Pop]</td>\n      <td>Electronic', 'Latin', 'Funk / Soul', 'Pop</td>\n      <td>[US]</td>\n      <td>[['File', 'WAV', 'Single']]</td>\n      <td>[{'want': 2, 'have': 1}]</td>\n      <td>US</td>\n      <td>2.000000</td>\n      <td>1.000000</td>\n    </tr>\n    <tr>\n      <th>22</th>\n      <td>22</td>\n      <td>22</td>\n      <td>22</td>\n      <td>Arcade</td>\n      <td>Duncan Laurence</td>\n      <td>13</td>\n      <td>2021-07-17</td>\n      <td>{'pagination': {'page': 1, 'pages': 1, 'per_pa...</td>\n      <td>[Verse 1]\\nA broken heart is all that's left\\n...</td>\n      <td>[Pop, Pop, Pop, Pop, Electronic', 'Pop, Pop, P...</td>\n      <td>Pop</td>\n      <td>[Netherlands, Europe, Unknown, Europe, Unknown...</td>\n      <td>[['Vinyl', '10\"', '33 ⅓ RPM', 'EP', 'Stereo'],...</td>\n      <td>[{'want': 10, 'have': 15}, {'want': 6, 'have':...</td>\n      <td>Unknown</td>\n      <td>24.777778</td>\n      <td>42.111111</td>\n    </tr>\n    <tr>\n      <th>24</th>\n      <td>24</td>\n      <td>24</td>\n      <td>24</td>\n      <td>Glad You Exist</td>\n      <td>Dan + Shay</td>\n      <td>22</td>\n      <td>2021-07-17</td>\n      <td>{'pagination': {'page': 1, 'pages': 1, 'per_pa...</td>\n      <td>[Verse 1]\\nHere's to all the late-night drunk ...</td>\n      <td>[Folk, World, &amp; Country, Folk, World, &amp; Countr...</td>\n      <td>Folk, World, &amp; Country</td>\n      <td>[US, US, US]</td>\n      <td>[['File', 'AAC', 'Single'], ['File', 'AAC', 'S...</td>\n      <td>[{'want': 0, 'have': 0}, {'want': 0, 'have': 0...</td>\n      <td>US</td>\n      <td>0.000000</td>\n      <td>0.000000</td>\n    </tr>\n    <tr>\n      <th>26</th>\n      <td>26</td>\n      <td>26</td>\n      <td>26</td>\n      <td>Astronaut In The Ocean</td>\n      <td>Masked Wolf</td>\n      <td>21</td>\n      <td>2021-07-17</td>\n      <td>{'pagination': {'page': 1, 'pages': 1, 'per_pa...</td>\n      <td>[Intro]\\nAstronaut\\n\\n[Chorus]\\nWhat you know ...</td>\n      <td>[Hip Hop]</td>\n      <td>Hip Hop</td>\n      <td>[US]</td>\n      <td>[['File', 'MP3', 'Single']]</td>\n      <td>[{'want': 18, 'have': 10}]</td>\n      <td>US</td>\n      <td>18.000000</td>\n      <td>10.000000</td>\n    </tr>\n    <tr>\n      <th>35</th>\n      <td>35</td>\n      <td>35</td>\n      <td>35</td>\n      <td>Tombstone</td>\n      <td>Rod Wave</td>\n      <td>15</td>\n      <td>2021-07-17</td>\n      <td>{'pagination': {'page': 1, 'pages': 1, 'per_pa...</td>\n      <td>[Intro]\\nDamn, this motherfucker too crazy, Sa...</td>\n      <td>[Hip Hop]</td>\n      <td>Hip Hop</td>\n      <td>[Unknown]</td>\n      <td>[['File', 'AAC', 'Single']]</td>\n      <td>[{'want': 0, 'have': 2}]</td>\n      <td>Unknown</td>\n      <td>0.000000</td>\n      <td>2.000000</td>\n    </tr>\n    <tr>\n      <th>36</th>\n      <td>36</td>\n      <td>36</td>\n      <td>36</td>\n      <td>Good 4 U</td>\n      <td>Olivia Rodrigo</td>\n      <td>8</td>\n      <td>2021-07-17</td>\n      <td>{'pagination': {'page': 1, 'pages': 1, 'per_pa...</td>\n      <td>[Intro]\\n(Ah)\\n\\n[Verse 1]\\nWell, good for you...</td>\n      <td>[Rock]</td>\n      <td>Rock</td>\n      <td>[Unknown]</td>\n      <td>[['File', 'AAC', 'Single']]</td>\n      <td>[{'want': 9, 'have': 10}]</td>\n      <td>Unknown</td>\n      <td>9.000000</td>\n      <td>10.000000</td>\n    </tr>\n    <tr>\n      <th>38</th>\n      <td>38</td>\n      <td>38</td>\n      <td>38</td>\n      <td>Single Saturday Night</td>\n      <td>Cole Swindell</td>\n      <td>10</td>\n      <td>2021-07-17</td>\n      <td>{'pagination': {'page': 1, 'pages': 1, 'per_pa...</td>\n      <td>[Verse 1]\\nI was out taking shots\\nThrowing do...</td>\n      <td>[Folk, World, &amp; Country]</td>\n      <td>Folk, World, &amp; Country</td>\n      <td>[US]</td>\n      <td>[['File', 'AAC', 'Single']]</td>\n      <td>[{'want': 0, 'have': 0}]</td>\n      <td>US</td>\n      <td>0.000000</td>\n      <td>0.000000</td>\n    </tr>\n    <tr>\n      <th>41</th>\n      <td>41</td>\n      <td>41</td>\n      <td>41</td>\n      <td>Deja Vu</td>\n      <td>Olivia Rodrigo</td>\n      <td>14</td>\n      <td>2021-07-17</td>\n      <td>{'pagination': {'page': 1, 'pages': 1, 'per_pa...</td>\n      <td>[Verse 1]\\nCar rides to Malibu\\nStrawberry ice...</td>\n      <td>[Pop]</td>\n      <td>Pop</td>\n      <td>[Unknown]</td>\n      <td>[['File', 'AAC', 'Single']]</td>\n      <td>[{'want': 6, 'have': 9}]</td>\n      <td>Unknown</td>\n      <td>6.000000</td>\n      <td>9.000000</td>\n    </tr>\n    <tr>\n      <th>44</th>\n      <td>44</td>\n      <td>44</td>\n      <td>44</td>\n      <td>Montero (Call Me By Your Name)</td>\n      <td>Lil Nas X</td>\n      <td>15</td>\n      <td>2021-07-17</td>\n      <td>{'pagination': {'page': 1, 'pages': 1, 'per_pa...</td>\n      <td>[Verse 1]\\nI caught it bad yesterday\\nYou hit ...</td>\n      <td>[Hip Hop', 'Pop, Hip Hop, Hip Hop', 'Pop]</td>\n      <td>Hip Hop', 'Pop</td>\n      <td>[Unknown, Unknown, Unknown]</td>\n      <td>[['File', 'MP3', 'Single', 'Stereo'], ['File',...</td>\n      <td>[{'want': 4, 'have': 5}, {'want': 12, 'have': ...</td>\n      <td>Unknown</td>\n      <td>8.000000</td>\n      <td>7.500000</td>\n    </tr>\n    <tr>\n      <th>46</th>\n      <td>46</td>\n      <td>46</td>\n      <td>46</td>\n      <td>Miss The Rage</td>\n      <td>Trippie Redd &amp; Playboi Carti</td>\n      <td>9</td>\n      <td>2021-07-17</td>\n      <td>{'pagination': {'page': 1, 'pages': 1, 'per_pa...</td>\n      <td>[Intro: Trippie Redd]\\nI love Trippie Redd\\nHa...</td>\n      <td>[Hip Hop]</td>\n      <td>Hip Hop</td>\n      <td>[Unknown]</td>\n      <td>[['File', 'AAC', 'Single']]</td>\n      <td>[{'want': 3, 'have': 1}]</td>\n      <td>Unknown</td>\n      <td>3.000000</td>\n      <td>1.000000</td>\n    </tr>\n    <tr>\n      <th>48</th>\n      <td>48</td>\n      <td>48</td>\n      <td>48</td>\n      <td>Late At Night</td>\n      <td>Roddy Ricch</td>\n      <td>5</td>\n      <td>2021-07-17</td>\n      <td>{'pagination': {'page': 1, 'pages': 1, 'per_pa...</td>\n      <td>[Intro]\\nLate at night\\nKiss me in the mornin'...</td>\n      <td>[Hip Hop, Hip Hop, Hip Hop]</td>\n      <td>Hip Hop</td>\n      <td>[US, Unknown, US]</td>\n      <td>[['Flexi-disc', '7\"', '45 RPM', 'Single Sided'...</td>\n      <td>[{'want': 3, 'have': 17}}, {'want': 0, 'have':...</td>\n      <td>US</td>\n      <td>2.000000</td>\n      <td>11.333333</td>\n    </tr>\n    <tr>\n      <th>49</th>\n      <td>49</td>\n      <td>49</td>\n      <td>49</td>\n      <td>Country Again</td>\n      <td>Thomas Rhett</td>\n      <td>10</td>\n      <td>2021-07-17</td>\n      <td>{'pagination': {'page': 1, 'pages': 1, 'per_pa...</td>\n      <td>[Verse 1]\\nI quit huntin' with my daddy, guess...</td>\n      <td>[Folk, World, &amp; Country, Folk, World, &amp; Countr...</td>\n      <td>Folk, World, &amp; Country</td>\n      <td>[Europe, US, US]</td>\n      <td>[['CD', 'Album'], ['CD', 'Album'], ['CD', 'Alb...</td>\n      <td>[{'want': 2, 'have': 8}, {'want': 3, 'have': 36}]</td>\n      <td>US</td>\n      <td>2.500000</td>\n      <td>22.000000</td>\n    </tr>\n    <tr>\n      <th>58</th>\n      <td>58</td>\n      <td>58</td>\n      <td>58</td>\n      <td>Save Your Tears</td>\n      <td>The Weeknd &amp; Ariana Grande</td>\n      <td>30</td>\n      <td>2021-07-17</td>\n      <td>{'pagination': {'page': 1, 'pages': 1, 'per_pa...</td>\n      <td>[Intro: The Weeknd &amp; Ariana Grande]\\nOoh (Ooh)...</td>\n      <td>[Pop, Pop]</td>\n      <td>Pop</td>\n      <td>[Unknown, Unknown]</td>\n      <td>[['File', 'AAC', 'Single'], ['File', 'AAC', 'S...</td>\n      <td>[{'want': 23, 'have': 14}}, {'want': 8, 'have'...</td>\n      <td>Unknown</td>\n      <td>15.500000</td>\n      <td>13.500000</td>\n    </tr>\n    <tr>\n      <th>63</th>\n      <td>63</td>\n      <td>63</td>\n      <td>63</td>\n      <td>Build A Bitch</td>\n      <td>Bella Poarch</td>\n      <td>8</td>\n      <td>2021-07-17</td>\n      <td>{'pagination': {'page': 1, 'pages': 1, 'per_pa...</td>\n      <td>[Chorus]\\nThis ain't Build a Bitch (A bitch)\\n...</td>\n      <td>[Pop', 'Classical]</td>\n      <td>Pop', 'Classical</td>\n      <td>[US]</td>\n      <td>[['File', 'MP3', 'MPEG-4 Video', 'Single', 'St...</td>\n      <td>[{'want': 2, 'have': 3}]</td>\n      <td>US</td>\n      <td>2.000000</td>\n      <td>3.000000</td>\n    </tr>\n    <tr>\n      <th>64</th>\n      <td>64</td>\n      <td>64</td>\n      <td>64</td>\n      <td>Red Light Green Light</td>\n      <td>DaBaby</td>\n      <td>2</td>\n      <td>2021-07-17</td>\n      <td>{'pagination': {'page': 1, 'pages': 1, 'per_pa...</td>\n      <td>[Chorus]\\nBaby, probably in a fast car (Zoom)\\...</td>\n      <td>[Hip Hop]</td>\n      <td>Hip Hop</td>\n      <td>[Unknown]</td>\n      <td>[['File', 'AAC', 'Single']]</td>\n      <td>[{'want': 0, 'have': 1}]</td>\n      <td>Unknown</td>\n      <td>0.000000</td>\n      <td>1.000000</td>\n    </tr>\n    <tr>\n      <th>65</th>\n      <td>65</td>\n      <td>65</td>\n      <td>65</td>\n      <td>Butter</td>\n      <td>BTS</td>\n      <td>7</td>\n      <td>2021-07-17</td>\n      <td>{'pagination': {'page': 1, 'pages': 1, 'per_pa...</td>\n      <td>[Verse 1: Jung Kook, V &amp; j-hope]\\nSmooth like ...</td>\n      <td>[Pop, Pop, Pop, Pop, Pop, Electronic', 'Pop, E...</td>\n      <td>Pop</td>\n      <td>[US, South Korea, US, US, South Korea, UK &amp; US...</td>\n      <td>[['Cassette', 'Single', 'Limited Edition'], ['...</td>\n      <td>[{'want': 18, 'have': 34}, {'want': 13, 'have'...</td>\n      <td>US</td>\n      <td>48.285714</td>\n      <td>145.428571</td>\n    </tr>\n    <tr>\n      <th>115</th>\n      <td>115</td>\n      <td>115</td>\n      <td>115</td>\n      <td>Up</td>\n      <td>Cardi B</td>\n      <td>20</td>\n      <td>2021-07-03</td>\n      <td>{'pagination': {'page': 1, 'pages': 1, 'per_pa...</td>\n      <td>[Intro]\\nUp, up, up (Ayy), up (Uh), up, look (...</td>\n      <td>[Hip Hop, Hip Hop, Hip Hop, Hip Hop, Hip Hop, ...</td>\n      <td>Hip Hop</td>\n      <td>[US, Europe, Europe, US, Australia, US, Nether...</td>\n      <td>[['CD', 'Single', 'Limited Edition'], ['CD', '...</td>\n      <td>[{'want': 61, 'have': 79}}, {'want': 12, 'have...</td>\n      <td>US</td>\n      <td>12.727273</td>\n      <td>17.090909</td>\n    </tr>\n  </tbody>\n</table>\n</div>"
     },
     "metadata": {}
    }
   ],
   "execution_count": 7
  },
  {
   "cell_type": "markdown",
   "source": "## Clean Format Data",
   "metadata": {
    "tags": [],
    "is_collapsed": false,
    "cell_id": "00015-65a535d9-7c18-40fc-9868-81ee30f9d0fe",
    "deepnote_cell_type": "text-cell-h2"
   }
  },
  {
   "cell_type": "code",
   "metadata": {
    "tags": [],
    "cell_id": "00015-f92846f1-cff0-4497-bd23-2d2fa4a202e0",
    "deepnote_to_be_reexecuted": false,
    "source_hash": "d79722ba",
    "execution_start": 1638384445231,
    "execution_millis": 51,
    "deepnote_cell_type": "code"
   },
   "source": "def get_freq_format(format):\n    if len(format) >0:\n        temp = re.sub(r'[\\[\\]\\(\\)\\\\\\\"\\' ]', '', str(format))\n        words = temp.split(',')\n        if len(words) > 0:\n            return max(set(words), key=words.count)\n        else: \n            return None\n    else:\n        return None\n\nsongs_and_artist['frequent_format'] = songs_and_artist.apply(\n    lambda row: get_freq_format(row['format']), axis=1)",
   "outputs": [],
   "execution_count": 8
  },
  {
   "cell_type": "markdown",
   "source": "## Model 1: predicting the genre of the song based on lyrics and artist",
   "metadata": {
    "cell_id": "00011-3caf146e-3273-433a-9ed5-92edb539ad8b",
    "deepnote_cell_type": "markdown"
   }
  },
  {
   "cell_type": "code",
   "metadata": {
    "tags": [],
    "cell_id": "00013-e4a05a2e-0506-42f6-9697-2e2520bad5a8",
    "deepnote_to_be_reexecuted": false,
    "source_hash": "5b686df1",
    "execution_start": 1638384932965,
    "execution_millis": 23,
    "deepnote_output_heights": [
     78.75
    ],
    "deepnote_cell_type": "code"
   },
   "source": "data = songs_and_artist.copy()\ncounts = data['genre'].value_counts()\ndata = data[~data['genre'].isin(counts[counts < 35].index)]\ndata['genre'].value_counts()",
   "outputs": [
    {
     "output_type": "execute_result",
     "execution_count": 17,
     "data": {
      "text/plain": "Hip Hop                   152\nPop                        92\nFolk, World, & Country     35\nName: genre, dtype: int64"
     },
     "metadata": {}
    }
   ],
   "execution_count": 17
  },
  {
   "cell_type": "code",
   "metadata": {
    "cell_id": "00013-9a95220f-6eb6-4b7a-ba2f-15f00546e4c5",
    "deepnote_to_be_reexecuted": false,
    "source_hash": "b734666e",
    "execution_start": 1638384938430,
    "execution_millis": 63,
    "deepnote_output_heights": [
     607
    ],
    "deepnote_cell_type": "code"
   },
   "source": "from nltk.tokenize import word_tokenize\nfrom sklearn.feature_extraction.text import CountVectorizer, TfidfVectorizer\nfrom sklearn.pipeline import Pipeline\nfrom sklearn.svm import LinearSVC\nfrom sklearn.linear_model import LogisticRegression\nfrom sklearn.model_selection import train_test_split\nfrom sklearn.compose import ColumnTransformer\nfrom sklearn.metrics import classification_report, confusion_matrix\nfrom sklearn.ensemble import RandomForestClassifier, AdaBoostClassifier\nfrom sklearn.neural_network import MLPClassifier\nfrom sklearn.neighbors import KNeighborsClassifier\nfrom sklearn.gaussian_process import GaussianProcessClassifier\nfrom sklearn.gaussian_process.kernels import RBF\nfrom sklearn.tree import DecisionTreeClassifier\nfrom sklearn.ensemble import RandomForestClassifier, AdaBoostClassifier\nfrom sklearn.model_selection import StratifiedShuffleSplit\n\n\nseed = 42\nfeatures = ['artist', 'lyrics', 'genre']\ntest_size = 0.2\n\n# prepare data\ndatacopy0 = data.copy()\n\n# preprocess lyrics\ndatacopy0['lyrics'] = datacopy0['lyrics'].apply(lambda x: re.sub(r'(\\[.*?\\]|\\n)', ' ', x))\n\n\n\n# train test split\nsss = StratifiedShuffleSplit(n_splits=5, test_size=0.2, random_state=seed)\nfor train_idx, test_idx in sss.split(datacopy0, datacopy0['genre']):\n    strat_train_set = datacopy0.iloc[train_idx]\n    strat_test_set = datacopy0.iloc[test_idx]\n\nprint(strat_train_set.shape, strat_test_set.shape)\n\nX_train = strat_train_set.drop('genre', axis=1)\ny_train = strat_train_set['genre'].copy()\n\nX_test = strat_test_set.drop('genre', axis=1)\ny_test = strat_test_set['genre'].copy()\n\n",
   "outputs": [
    {
     "name": "stdout",
     "text": "(223, 18) (56, 18)\n",
     "output_type": "stream"
    }
   ],
   "execution_count": 18
  },
  {
   "cell_type": "code",
   "metadata": {
    "cell_id": "00015-c8bbbf4d-930a-43cc-8945-a4f16d72af1b",
    "deepnote_to_be_reexecuted": false,
    "source_hash": "2abcdae0",
    "execution_start": 1638384956178,
    "execution_millis": 552,
    "deepnote_cell_type": "code"
   },
   "source": "# vectorize lyrics and vectorizer\ncol_transformer = ColumnTransformer([\n    ('lyrics_vec', TfidfVectorizer(stop_words=\"english\", analyzer='word',\n                                   ngram_range=(1, 2), max_df=1.0,\n                                   min_df=1, max_features=None), 'lyrics'),\n    ('artist_vec', TfidfVectorizer(stop_words=\"english\", analyzer='word',\n                                   ngram_range=(1, 2), max_df=1.0,\n                                   min_df=1, max_features=None), 'artist')\n])\n\n# fit then transform lyrics and artist name column\nX_train = col_transformer.fit_transform(X_train)\nX_test = col_transformer.transform(X_test)\n\n\n# from https://scikit-learn.org/stable/auto_examples/classification/plot_classifier_comparison.html\n\nnames = [\"Nearest Neighbors\",\n         # \"Gaussian Process\",\n         \"Decision Tree\", \"Random Forest\", \"Neural Net\", \"AdaBoost\",\n         \"AdaBoost1\"]\n\nclassifiers = [\n    KNeighborsClassifier(2),\n    # GaussianProcessClassifier(1.0 * RBF(1.0)),\n    DecisionTreeClassifier(max_depth=5),\n    RandomForestClassifier(max_depth=5, n_estimators=10, max_features=1),\n    MLPClassifier(alpha=1, max_iter=1000),\n    AdaBoostClassifier(),\n    AdaBoostClassifier(base_estimator=RandomForestClassifier(max_depth=5, n_estimators=20), \\\n                       learning_rate=0.1, n_estimators=10)\n]\n\n\nfor name, clf in zip(names, classifiers):\n    clf.fit(X_train, y_train)\n    y_pred = clf.predict(X_test)\n\n    # evaluate predictions\n    accuracy = clf.score(X_test, y_test)\n    print(\"%s Accuracy: %.2f%%\" % (name, accuracy * 100.0))\n\n",
   "outputs": [],
   "execution_count": 19
  },
  {
   "cell_type": "code",
   "source": "# Neural network clf\nnn = MLPClassifier(alpha=1, max_iter=200, random_state= seed)\nnn.fit(X_train, y_train)\ny_pred = nn.predict(X_test)\n\n# evaluate predictions\nprint('Accuracy Score Test', nn.score(X_test, y_test))\nprint('Confusion Matrix: \\n', confusion_matrix(y_test, y_pred))\nprint('Classification Report: \\n', classification_report(y_test, y_pred))\n",
   "metadata": {
    "tags": [],
    "cell_id": "00021-202dfe77-6fd1-4e3d-8981-0d5fea84e5dd",
    "deepnote_to_be_reexecuted": false,
    "source_hash": "a5ced1cc",
    "execution_start": 1638384960405,
    "execution_millis": 57827,
    "deepnote_cell_type": "code"
   },
   "outputs": [
    {
     "name": "stdout",
     "text": "Accuracy Score Train:  1.0\nAccuracy Score Test 0.8035714285714286\nConfusion Matrix: \n [[ 3  2  2]\n [ 0 31  0]\n [ 0  7 11]]\nClassification Report: \n                         precision    recall  f1-score   support\n\nFolk, World, & Country       1.00      0.43      0.60         7\n               Hip Hop       0.78      1.00      0.87        31\n                   Pop       0.85      0.61      0.71        18\n\n              accuracy                           0.80        56\n             macro avg       0.87      0.68      0.73        56\n          weighted avg       0.83      0.80      0.79        56\n\n",
     "output_type": "stream"
    }
   ],
   "execution_count": 20
  },
  {
   "cell_type": "markdown",
   "source": "## Model 2:  predict the Weeks-on-board with genre, artist, lyric, song name, artist's country, \\# of people on discorg who owns this song, and \\# of people on discorg wanting to own this song   ",
   "metadata": {
    "cell_id": "00016-09d0d357-a390-4384-9ade-f4e9c7aec4a1",
    "deepnote_cell_type": "markdown"
   }
  },
  {
   "cell_type": "code",
   "metadata": {
    "cell_id": "00017-f4c80865-4587-4444-989c-9acb0238d39b",
    "deepnote_to_be_reexecuted": false,
    "source_hash": "fc160ec2",
    "execution_start": 1638385562394,
    "execution_millis": 299,
    "deepnote_output_heights": [
     null,
     21.1875
    ],
    "deepnote_cell_type": "code"
   },
   "source": "import re\nfrom sklearn.preprocessing import StandardScaler\n\nfeatures = [\n    \"artist\",\n    \"lyrics\",\n    \"genre\",\n    \"song\",\n    \"frequent_country\",\n    \"comm_want_num\",\n    \"comm_have_num\",\n]\n\n\n# prepare data \n# filter out songs that have weeks on board counts less than 2\ndatacopy1 = data.copy()\ncounts = datacopy1['weeks-on-board'].value_counts()\ndatacopy1 = datacopy1[~datacopy1['weeks-on-board'].isin(counts[counts < 7].index)]\n\n\n# Define X and y\nX = datacopy1[features]\ny = datacopy1[\"weeks-on-board\"]\n\n# preprocess lyrics\nX[\"lyrics\"] = X[\"lyrics\"].apply(lambda x: re.sub(r\"(\\[.*?\\]|\\n)\", \" \", x))\n\n# transform text columns with vectorizer\ncol_transformer = ColumnTransformer([\n    ('lyrics_vec', TfidfVectorizer(stop_words=\"english\", analyzer='word',\n                                   ngram_range=(1, 1), max_df=1.0,\n                                   min_df=1, max_features=None), 'lyrics'),\n    ('artist_vec', TfidfVectorizer(stop_words=\"english\", analyzer='word',\n                                   ngram_range=(1, 1), max_df=1.0,\n                                   min_df=1, max_features=None), 'artist'),\n    ('genre_vec', TfidfVectorizer(stop_words=\"english\", analyzer='word',\n                                  ngram_range=(1, 1), max_df=1.0,\n                                  min_df=1, max_features=None), 'genre'),\n    ('song_vec', TfidfVectorizer(stop_words=\"english\", analyzer='word',\n                                   ngram_range=(1, 1), max_df=1.0,\n                                   min_df=1, max_features=None), 'song'),\n    ('country_vec', TfidfVectorizer(stop_words=\"english\", analyzer='word',\n                                   ngram_range=(1, 1), max_df=1.0,\n                                   min_df=1, max_features=None), 'frequent_country'),\n    (\"scaler\", StandardScaler(), [\"comm_want_num\", \"comm_have_num\"])\n])\n\ndef func(x):\n    if 0 < x <= 10:\n        return 'non_hit'\n    else:\n        return 'hit'\n\ndatacopy1['weeks-on-board'] = datacopy1['weeks-on-board'].apply(func)\n\n\n# split train and test set\nsss = StratifiedShuffleSplit(n_splits=5, test_size=0.2, random_state=seed)\nfor train_idx, test_idx in sss.split(datacopy1, datacopy1[\"weeks-on-board\"]):\n    strat_train_set = datacopy1.iloc[train_idx]\n    strat_test_set = datacopy1.iloc[test_idx]\n\nprint(strat_train_set.shape, strat_test_set.shape)\n\n\nX_train = strat_train_set.drop(\"weeks-on-board\", axis=1)\ny_train = strat_train_set[\"weeks-on-board\"].copy()\n\nX_test = strat_test_set.drop(\"weeks-on-board\", axis=1)\ny_test = strat_test_set[\"weeks-on-board\"].copy()\n\n# fit then transform text columns\nX_train = col_transformer.fit_transform(X_train)\nX_test = col_transformer.transform(X_test)\n",
   "outputs": [
    {
     "name": "stderr",
     "text": "/shared-libs/python3.7/py-core/lib/python3.7/site-packages/ipykernel_launcher.py:27: SettingWithCopyWarning: \nA value is trying to be set on a copy of a slice from a DataFrame.\nTry using .loc[row_indexer,col_indexer] = value instead\n\nSee the caveats in the documentation: https://pandas.pydata.org/pandas-docs/stable/user_guide/indexing.html#returning-a-view-versus-a-copy\n(148, 18) (37, 18)\n",
     "output_type": "stream"
    }
   ],
   "execution_count": 30
  },
  {
   "cell_type": "code",
   "metadata": {
    "tags": [],
    "cell_id": "00018-436e0fea-9d05-49be-b64b-bb0ddeeb6ff7",
    "deepnote_to_be_reexecuted": false,
    "source_hash": "1dd179df",
    "execution_start": 1638385569436,
    "execution_millis": 13904,
    "deepnote_output_heights": [
     null,
     21.1875
    ],
    "deepnote_cell_type": "code"
   },
   "source": "from sklearn.linear_model import ElasticNet\nfrom sklearn.linear_model import LinearRegression\n\n\nnames = [\"Nearest Neighbors\",\n         \"Decision Tree\", \"Random Forest\", \"Neural Net\", \"AdaBoost\",\n         \"AdaBoost1\"]\n\nclassifiers = [\n    KNeighborsClassifier(2),\n    DecisionTreeClassifier(max_depth=5),\n    RandomForestClassifier(max_depth=5, n_estimators=10, max_features=1),\n    MLPClassifier(alpha=1, max_iter=1000),\n    AdaBoostClassifier(),\n    AdaBoostClassifier(base_estimator=RandomForestClassifier(max_depth=5, n_estimators=20), \\\n                       learning_rate=0.1, n_estimators=10)\n]\n\n# regressors \n# check threshold: mean square error, high threshold\n\nfor name, clf in zip(names, classifiers):\n    clf.fit(X_train, y_train)\n    y_pred = clf.predict(X_test)\n\n    # evaluate predictions\n    accuracy = clf.score(X_test, y_test)\n    print(\"%s Accuracy: %.2f%%\" % (name, accuracy * 100.0))\n\n",
   "outputs": [
    {
     "name": "stdout",
     "text": "Nearest Neighbors Accuracy: 48.65%\nDecision Tree Accuracy: 59.46%\nRandom Forest Accuracy: 70.27%\nNeural Net Accuracy: 67.57%\nAdaBoost Accuracy: 64.86%\nAdaBoost1 Accuracy: 70.27%\n",
     "output_type": "stream"
    }
   ],
   "execution_count": 31
  },
  {
   "cell_type": "code",
   "metadata": {
    "cell_id": "00018-1fafa63b-ddeb-401f-9eb2-ef0b03822231",
    "deepnote_output_heights": [
     null,
     611
    ],
    "deepnote_to_be_reexecuted": false,
    "source_hash": "7aab929",
    "execution_start": 1638385583354,
    "execution_millis": 30,
    "deepnote_cell_type": "code"
   },
   "source": "from sklearn.metrics import plot_confusion_matrix , classification_report\nprint(classification_report(y_test,y_pred))",
   "outputs": [
    {
     "name": "stdout",
     "text": "              precision    recall  f1-score   support\n\n         hit       0.00      0.00      0.00        11\n     non_hit       0.70      1.00      0.83        26\n\n    accuracy                           0.70        37\n   macro avg       0.35      0.50      0.41        37\nweighted avg       0.49      0.70      0.58        37\n\n/shared-libs/python3.7/py/lib/python3.7/site-packages/sklearn/metrics/_classification.py:1308: UndefinedMetricWarning: Precision and F-score are ill-defined and being set to 0.0 in labels with no predicted samples. Use `zero_division` parameter to control this behavior.\n  _warn_prf(average, modifier, msg_start, len(result))\n/shared-libs/python3.7/py/lib/python3.7/site-packages/sklearn/metrics/_classification.py:1308: UndefinedMetricWarning: Precision and F-score are ill-defined and being set to 0.0 in labels with no predicted samples. Use `zero_division` parameter to control this behavior.\n  _warn_prf(average, modifier, msg_start, len(result))\n/shared-libs/python3.7/py/lib/python3.7/site-packages/sklearn/metrics/_classification.py:1308: UndefinedMetricWarning: Precision and F-score are ill-defined and being set to 0.0 in labels with no predicted samples. Use `zero_division` parameter to control this behavior.\n  _warn_prf(average, modifier, msg_start, len(result))\n",
     "output_type": "stream"
    }
   ],
   "execution_count": 32
  },
  {
   "cell_type": "code",
   "source": "import sklearn.metrics as metrics\nclf = AdaBoostClassifier(base_estimator=RandomForestClassifier(max_depth=5, n_estimators=20), learning_rate=0.1, n_estimators=10)\nclf.fit(X_train, y_train)\nprobs = clf.predict_proba(X_test)\npreds = probs[:,1]\ny_test.replace('non_hit',0, inplace = True)\ny_test.replace('hit', 1, inplace = True)\nfpr, tpr, threshold = metrics.roc_curve(y_test, preds)\nroc_auc = metrics.auc(fpr, tpr)",
   "metadata": {
    "tags": [],
    "cell_id": "00026-17dbcc14-d332-41c7-adf5-ec969ecd3c2c",
    "deepnote_to_be_reexecuted": false,
    "source_hash": "eb4c62d",
    "execution_start": 1638385583407,
    "execution_millis": 1072,
    "deepnote_cell_type": "code"
   },
   "outputs": [],
   "execution_count": 33
  },
  {
   "cell_type": "code",
   "source": "import matplotlib.pyplot as plt\nplt.title('Receiver Operating Characteristic')\nplt.plot(fpr, tpr, 'b', label = 'AUC = %0.2f' % roc_auc)\nplt.legend(loc = 'lower right')\nplt.plot([0, 1], [0, 1],'r--')\nplt.xlim([0, 1])\nplt.ylim([0, 1])\nplt.ylabel('True Positive Rate')\nplt.xlabel('False Positive Rate')\nplt.show()",
   "metadata": {
    "tags": [],
    "cell_id": "00027-dc939262-33cf-480a-9fec-33ec318f72e8",
    "deepnote_to_be_reexecuted": false,
    "source_hash": "7804eb79",
    "execution_start": 1638385584498,
    "execution_millis": 568,
    "deepnote_output_heights": [
     280
    ],
    "deepnote_cell_type": "code"
   },
   "outputs": [
    {
     "data": {
      "text/plain": "<Figure size 432x288 with 1 Axes>",
      "image/png": "[encoded data removed]"
     },
     "metadata": {
      "needs_background": "light",
      "image/png": {
       "width": 394,
       "height": 278
      }
     },
     "output_type": "display_data"
    }
   ],
   "execution_count": 34
  },
  {
   "cell_type": "code",
   "source": "",
   "metadata": {
    "tags": [],
    "cell_id": "00029-5a37c558-cb7d-48cd-a633-903c98b6f4e4",
    "deepnote_cell_type": "code"
   },
   "outputs": [],
   "execution_count": null
  },
  {
   "cell_type": "markdown",
   "source": "<a style='text-decoration:none;line-height:16px;display:flex;color:#5B5B62;padding:10px;justify-content:end;' href='https://deepnote.com?utm_source=created-in-deepnote-cell&projectId=77492079-5536-4eb2-89ec-9f09679980e1' target=\"_blank\">\n<img alt='Created in deepnote.com' style='display:inline;max-height:16px;margin:0px;margin-right:7.5px;' src='data:image/svg+xml;base64,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' > </img>\nCreated in <span style='font-weight:600;margin-left:4px;'>Deepnote</span></a>",
   "metadata": {
    "tags": [],
    "created_in_deepnote_cell": true,
    "deepnote_cell_type": "markdown"
   }
  }
 ],
 "nbformat": 4,
 "nbformat_minor": 2,
 "metadata": {
  "interpreter": {
   "hash": "f3beb77f6128028ed5cf72effd30108b4bd3f966f33f376a9874c4c914cfa86c"
  },
  "kernelspec": {
   "display_name": "Python 3.8.3 64-bit ('base': conda)",
   "language": "python",
   "name": "python3"
  },
  "language_info": {
   "codemirror_mode": {
    "name": "ipython",
    "version": 3
   },
   "file_extension": ".py",
   "mimetype": "text/x-python",
   "name": "python",
   "nbconvert_exporter": "python",
   "pygments_lexer": "ipython3",
   "version": "3.8.3"
  },
  "orig_nbformat": 4,
  "deepnote_notebook_id": "93b6e866-dbac-4ede-8c94-2d34fefb480b",
  "deepnote": {},
  "deepnote_execution_queue": []
 }
}